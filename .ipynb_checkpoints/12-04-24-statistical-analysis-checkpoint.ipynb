{
 "cells": [
  {
   "cell_type": "code",
   "execution_count": 1,
   "id": "687f5cf3",
   "metadata": {},
   "outputs": [],
   "source": [
    "import pandas as pd\n",
    "import numpy as np"
   ]
  },
  {
   "cell_type": "code",
   "execution_count": 2,
   "id": "50774e0f",
   "metadata": {},
   "outputs": [
    {
     "data": {
      "text/html": [
       "<div>\n",
       "<style scoped>\n",
       "    .dataframe tbody tr th:only-of-type {\n",
       "        vertical-align: middle;\n",
       "    }\n",
       "\n",
       "    .dataframe tbody tr th {\n",
       "        vertical-align: top;\n",
       "    }\n",
       "\n",
       "    .dataframe thead th {\n",
       "        text-align: right;\n",
       "    }\n",
       "</style>\n",
       "<table border=\"1\" class=\"dataframe\">\n",
       "  <thead>\n",
       "    <tr style=\"text-align: right;\">\n",
       "      <th></th>\n",
       "      <th>age</th>\n",
       "      <th>gender</th>\n",
       "      <th>bmi</th>\n",
       "      <th>children</th>\n",
       "      <th>smoker</th>\n",
       "      <th>region</th>\n",
       "      <th>charges</th>\n",
       "    </tr>\n",
       "  </thead>\n",
       "  <tbody>\n",
       "    <tr>\n",
       "      <th>0</th>\n",
       "      <td>19</td>\n",
       "      <td>female</td>\n",
       "      <td>27.900</td>\n",
       "      <td>0</td>\n",
       "      <td>yes</td>\n",
       "      <td>southwest</td>\n",
       "      <td>16884.92400</td>\n",
       "    </tr>\n",
       "    <tr>\n",
       "      <th>1</th>\n",
       "      <td>18</td>\n",
       "      <td>male</td>\n",
       "      <td>33.770</td>\n",
       "      <td>1</td>\n",
       "      <td>no</td>\n",
       "      <td>southeast</td>\n",
       "      <td>1725.55230</td>\n",
       "    </tr>\n",
       "    <tr>\n",
       "      <th>2</th>\n",
       "      <td>28</td>\n",
       "      <td>male</td>\n",
       "      <td>33.000</td>\n",
       "      <td>3</td>\n",
       "      <td>no</td>\n",
       "      <td>southeast</td>\n",
       "      <td>4449.46200</td>\n",
       "    </tr>\n",
       "    <tr>\n",
       "      <th>3</th>\n",
       "      <td>33</td>\n",
       "      <td>male</td>\n",
       "      <td>22.705</td>\n",
       "      <td>0</td>\n",
       "      <td>no</td>\n",
       "      <td>northwest</td>\n",
       "      <td>21984.47061</td>\n",
       "    </tr>\n",
       "    <tr>\n",
       "      <th>4</th>\n",
       "      <td>32</td>\n",
       "      <td>male</td>\n",
       "      <td>28.880</td>\n",
       "      <td>0</td>\n",
       "      <td>no</td>\n",
       "      <td>northwest</td>\n",
       "      <td>3866.85520</td>\n",
       "    </tr>\n",
       "  </tbody>\n",
       "</table>\n",
       "</div>"
      ],
      "text/plain": [
       "   age  gender     bmi  children smoker     region      charges\n",
       "0   19  female  27.900         0    yes  southwest  16884.92400\n",
       "1   18    male  33.770         1     no  southeast   1725.55230\n",
       "2   28    male  33.000         3     no  southeast   4449.46200\n",
       "3   33    male  22.705         0     no  northwest  21984.47061\n",
       "4   32    male  28.880         0     no  northwest   3866.85520"
      ]
     },
     "execution_count": 2,
     "metadata": {},
     "output_type": "execute_result"
    }
   ],
   "source": [
    "insurance=pd.read_csv(\"C:\\\\Users\\\\pgkvi\\\\OneDrive\\\\Desktop\\\\Python Practice\\\\DS course\\\\DataSet\\\\insurance.csv\")\n",
    "insurance.head()"
   ]
  },
  {
   "cell_type": "code",
   "execution_count": 17,
   "id": "67e0cd46",
   "metadata": {},
   "outputs": [
    {
     "data": {
      "text/plain": [
       "(   year model  price  mileage   color transmission\n",
       " 0  2011   SEL  21992     7413  Yellow         AUTO\n",
       " 1  2011   SEL  20995    10926    Gray         AUTO\n",
       " 2  2011   SEL  19995     7351  Silver         AUTO\n",
       " 3  2011   SEL  17809    11613    Gray         AUTO\n",
       " 4  2012    SE  17500     8367   White         AUTO,\n",
       " (150, 6))"
      ]
     },
     "execution_count": 17,
     "metadata": {},
     "output_type": "execute_result"
    }
   ],
   "source": [
    "cars=pd.read_csv(\"C:\\\\Users\\\\pgkvi\\\\OneDrive\\\\Desktop\\\\Python Practice\\\\DS course\\\\DataSet\\\\usedcars.csv\")\n",
    "cars.head(),cars.shape"
   ]
  },
  {
   "cell_type": "code",
   "execution_count": 4,
   "id": "255d8300",
   "metadata": {},
   "outputs": [
    {
     "data": {
      "text/plain": [
       "(3800, 21992, 12961.933333333332, 13591.5)"
      ]
     },
     "execution_count": 4,
     "metadata": {},
     "output_type": "execute_result"
    }
   ],
   "source": [
    "cars.price.min(),cars.price.max(),cars.price.mean(),cars.price.median()"
   ]
  },
  {
   "cell_type": "code",
   "execution_count": 9,
   "id": "e544379e",
   "metadata": {},
   "outputs": [
    {
     "data": {
      "text/plain": [
       "13591.5"
      ]
     },
     "execution_count": 9,
     "metadata": {},
     "output_type": "execute_result"
    }
   ],
   "source": [
    "cars.price.quantile()#defualt 50%"
   ]
  },
  {
   "cell_type": "code",
   "execution_count": 19,
   "id": "a3185b30",
   "metadata": {},
   "outputs": [
    {
     "data": {
      "text/plain": [
       "0.00     3800.0\n",
       "0.25    10995.0\n",
       "0.50    13591.5\n",
       "0.75    14904.5\n",
       "0.90    15999.1\n",
       "1.00    21992.0\n",
       "Name: price, dtype: float64"
      ]
     },
     "execution_count": 19,
     "metadata": {},
     "output_type": "execute_result"
    }
   ],
   "source": [
    "#Q1 25% 1st quartile, Q3 75% 3rd quartile\n",
    "cars.price.quantile(q=[0,0.25,0.5,0.75,0.9,1])#0=min,1=max\n"
   ]
  },
  {
   "cell_type": "code",
   "execution_count": 20,
   "id": "ef4edf33",
   "metadata": {},
   "outputs": [
    {
     "data": {
      "text/plain": [
       "array([ 3800. , 10995. , 13591.5, 14904.5, 15999.1, 21992. ])"
      ]
     },
     "execution_count": 20,
     "metadata": {},
     "output_type": "execute_result"
    }
   ],
   "source": [
    "np.quantile(cars.price,q=[0,0.25,0.5,0.75,0.9,1])"
   ]
  },
  {
   "cell_type": "code",
   "execution_count": 14,
   "id": "d3b44987",
   "metadata": {},
   "outputs": [
    {
     "data": {
      "text/html": [
       "<div>\n",
       "<style scoped>\n",
       "    .dataframe tbody tr th:only-of-type {\n",
       "        vertical-align: middle;\n",
       "    }\n",
       "\n",
       "    .dataframe tbody tr th {\n",
       "        vertical-align: top;\n",
       "    }\n",
       "\n",
       "    .dataframe thead th {\n",
       "        text-align: right;\n",
       "    }\n",
       "</style>\n",
       "<table border=\"1\" class=\"dataframe\">\n",
       "  <thead>\n",
       "    <tr style=\"text-align: right;\">\n",
       "      <th></th>\n",
       "      <th>year</th>\n",
       "      <th>model</th>\n",
       "      <th>price</th>\n",
       "      <th>mileage</th>\n",
       "      <th>color</th>\n",
       "      <th>transmission</th>\n",
       "    </tr>\n",
       "  </thead>\n",
       "  <tbody>\n",
       "    <tr>\n",
       "      <th>0</th>\n",
       "      <td>2011</td>\n",
       "      <td>SEL</td>\n",
       "      <td>21992</td>\n",
       "      <td>7413</td>\n",
       "      <td>Yellow</td>\n",
       "      <td>AUTO</td>\n",
       "    </tr>\n",
       "    <tr>\n",
       "      <th>1</th>\n",
       "      <td>2011</td>\n",
       "      <td>SEL</td>\n",
       "      <td>20995</td>\n",
       "      <td>10926</td>\n",
       "      <td>Gray</td>\n",
       "      <td>AUTO</td>\n",
       "    </tr>\n",
       "    <tr>\n",
       "      <th>2</th>\n",
       "      <td>2011</td>\n",
       "      <td>SEL</td>\n",
       "      <td>19995</td>\n",
       "      <td>7351</td>\n",
       "      <td>Silver</td>\n",
       "      <td>AUTO</td>\n",
       "    </tr>\n",
       "    <tr>\n",
       "      <th>3</th>\n",
       "      <td>2011</td>\n",
       "      <td>SEL</td>\n",
       "      <td>17809</td>\n",
       "      <td>11613</td>\n",
       "      <td>Gray</td>\n",
       "      <td>AUTO</td>\n",
       "    </tr>\n",
       "    <tr>\n",
       "      <th>4</th>\n",
       "      <td>2012</td>\n",
       "      <td>SE</td>\n",
       "      <td>17500</td>\n",
       "      <td>8367</td>\n",
       "      <td>White</td>\n",
       "      <td>AUTO</td>\n",
       "    </tr>\n",
       "    <tr>\n",
       "      <th>5</th>\n",
       "      <td>2010</td>\n",
       "      <td>SEL</td>\n",
       "      <td>17495</td>\n",
       "      <td>25125</td>\n",
       "      <td>Silver</td>\n",
       "      <td>AUTO</td>\n",
       "    </tr>\n",
       "    <tr>\n",
       "      <th>6</th>\n",
       "      <td>2011</td>\n",
       "      <td>SEL</td>\n",
       "      <td>17000</td>\n",
       "      <td>27393</td>\n",
       "      <td>Blue</td>\n",
       "      <td>AUTO</td>\n",
       "    </tr>\n",
       "    <tr>\n",
       "      <th>7</th>\n",
       "      <td>2010</td>\n",
       "      <td>SEL</td>\n",
       "      <td>16995</td>\n",
       "      <td>21026</td>\n",
       "      <td>Silver</td>\n",
       "      <td>AUTO</td>\n",
       "    </tr>\n",
       "    <tr>\n",
       "      <th>8</th>\n",
       "      <td>2011</td>\n",
       "      <td>SES</td>\n",
       "      <td>16995</td>\n",
       "      <td>32655</td>\n",
       "      <td>Silver</td>\n",
       "      <td>AUTO</td>\n",
       "    </tr>\n",
       "    <tr>\n",
       "      <th>9</th>\n",
       "      <td>2010</td>\n",
       "      <td>SES</td>\n",
       "      <td>16995</td>\n",
       "      <td>36116</td>\n",
       "      <td>Silver</td>\n",
       "      <td>AUTO</td>\n",
       "    </tr>\n",
       "    <tr>\n",
       "      <th>10</th>\n",
       "      <td>2010</td>\n",
       "      <td>SEL</td>\n",
       "      <td>16995</td>\n",
       "      <td>40539</td>\n",
       "      <td>Black</td>\n",
       "      <td>AUTO</td>\n",
       "    </tr>\n",
       "    <tr>\n",
       "      <th>11</th>\n",
       "      <td>2011</td>\n",
       "      <td>SES</td>\n",
       "      <td>16992</td>\n",
       "      <td>9199</td>\n",
       "      <td>Silver</td>\n",
       "      <td>AUTO</td>\n",
       "    </tr>\n",
       "    <tr>\n",
       "      <th>12</th>\n",
       "      <td>2011</td>\n",
       "      <td>SEL</td>\n",
       "      <td>16950</td>\n",
       "      <td>9388</td>\n",
       "      <td>Green</td>\n",
       "      <td>AUTO</td>\n",
       "    </tr>\n",
       "    <tr>\n",
       "      <th>13</th>\n",
       "      <td>2010</td>\n",
       "      <td>SES</td>\n",
       "      <td>16950</td>\n",
       "      <td>32058</td>\n",
       "      <td>Red</td>\n",
       "      <td>AUTO</td>\n",
       "    </tr>\n",
       "    <tr>\n",
       "      <th>14</th>\n",
       "      <td>2011</td>\n",
       "      <td>SE</td>\n",
       "      <td>16000</td>\n",
       "      <td>15367</td>\n",
       "      <td>White</td>\n",
       "      <td>AUTO</td>\n",
       "    </tr>\n",
       "  </tbody>\n",
       "</table>\n",
       "</div>"
      ],
      "text/plain": [
       "    year model  price  mileage   color transmission\n",
       "0   2011   SEL  21992     7413  Yellow         AUTO\n",
       "1   2011   SEL  20995    10926    Gray         AUTO\n",
       "2   2011   SEL  19995     7351  Silver         AUTO\n",
       "3   2011   SEL  17809    11613    Gray         AUTO\n",
       "4   2012    SE  17500     8367   White         AUTO\n",
       "5   2010   SEL  17495    25125  Silver         AUTO\n",
       "6   2011   SEL  17000    27393    Blue         AUTO\n",
       "7   2010   SEL  16995    21026  Silver         AUTO\n",
       "8   2011   SES  16995    32655  Silver         AUTO\n",
       "9   2010   SES  16995    36116  Silver         AUTO\n",
       "10  2010   SEL  16995    40539   Black         AUTO\n",
       "11  2011   SES  16992     9199  Silver         AUTO\n",
       "12  2011   SEL  16950     9388   Green         AUTO\n",
       "13  2010   SES  16950    32058     Red         AUTO\n",
       "14  2011    SE  16000    15367   White         AUTO"
      ]
     },
     "execution_count": 14,
     "metadata": {},
     "output_type": "execute_result"
    }
   ],
   "source": [
    "cars[cars.price>15999.1]"
   ]
  },
  {
   "cell_type": "code",
   "execution_count": 16,
   "id": "6c679336",
   "metadata": {},
   "outputs": [
    {
     "data": {
      "text/plain": [
       "(36, 6)"
      ]
     },
     "execution_count": 16,
     "metadata": {},
     "output_type": "execute_result"
    }
   ],
   "source": [
    "cars[cars.price<10995.0].shape"
   ]
  },
  {
   "cell_type": "code",
   "execution_count": 21,
   "id": "a52d6f24",
   "metadata": {},
   "outputs": [
    {
     "data": {
      "text/plain": [
       "3909.5"
      ]
     },
     "execution_count": 21,
     "metadata": {},
     "output_type": "execute_result"
    }
   ],
   "source": [
    "#IQR\n",
    "cars.price.quantile(q=0.75)-cars.price.quantile(q=0.25)"
   ]
  },
  {
   "cell_type": "code",
   "execution_count": 22,
   "id": "ed4a3e81",
   "metadata": {},
   "outputs": [],
   "source": [
    "from scipy.stats import iqr"
   ]
  },
  {
   "cell_type": "code",
   "execution_count": 23,
   "id": "f5fea116",
   "metadata": {},
   "outputs": [
    {
     "data": {
      "text/plain": [
       "3909.5"
      ]
     },
     "execution_count": 23,
     "metadata": {},
     "output_type": "execute_result"
    }
   ],
   "source": [
    "iqr(cars.price)"
   ]
  },
  {
   "cell_type": "code",
   "execution_count": null,
   "id": "759b4070",
   "metadata": {},
   "outputs": [],
   "source": []
  }
 ],
 "metadata": {
  "kernelspec": {
   "display_name": "Python 3 (ipykernel)",
   "language": "python",
   "name": "python3"
  },
  "language_info": {
   "codemirror_mode": {
    "name": "ipython",
    "version": 3
   },
   "file_extension": ".py",
   "mimetype": "text/x-python",
   "name": "python",
   "nbconvert_exporter": "python",
   "pygments_lexer": "ipython3",
   "version": "3.9.13"
  }
 },
 "nbformat": 4,
 "nbformat_minor": 5
}
