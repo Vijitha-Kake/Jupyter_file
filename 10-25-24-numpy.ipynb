{
 "cells": [
  {
   "cell_type": "code",
   "execution_count": 2,
   "id": "7c051f2c",
   "metadata": {},
   "outputs": [],
   "source": [
    "import numpy as np\n",
    "\n"
   ]
  },
  {
   "cell_type": "markdown",
   "id": "99287c61",
   "metadata": {},
   "source": [
    "## this module gives functionalities to work with numerical calculation (numpy.org)"
   ]
  },
  {
   "cell_type": "code",
   "execution_count": 2,
   "id": "c2411053",
   "metadata": {},
   "outputs": [
    {
     "data": {
      "text/plain": [
       "(array([28, 20, 26, 42, 48, 46]), numpy.ndarray)"
      ]
     },
     "execution_count": 2,
     "metadata": {},
     "output_type": "execute_result"
    }
   ],
   "source": [
    "x=np.array([28,20,26,42,48,46])\n",
    "x,type(x)"
   ]
  },
  {
   "cell_type": "code",
   "execution_count": 8,
   "id": "6a0dbe5e",
   "metadata": {},
   "outputs": [
    {
     "name": "stdout",
     "output_type": "stream",
     "text": [
      "maths marks:  [86 94 98 99 92]\n"
     ]
    },
    {
     "data": {
      "text/plain": [
       "(numpy.ndarray, array([89, 91, 86, 83, 95]))"
      ]
     },
     "execution_count": 8,
     "metadata": {},
     "output_type": "execute_result"
    }
   ],
   "source": [
    "maths=np.array([86,94,98,99,92])\n",
    "physics=np.array([89,91,86,83,95])\n",
    "print('maths marks: ', maths)\n",
    "type(maths), physics"
   ]
  },
  {
   "cell_type": "code",
   "execution_count": 6,
   "id": "3f2dc7dc",
   "metadata": {},
   "outputs": [
    {
     "data": {
      "text/plain": [
       "array([175, 185, 184, 182, 187])"
      ]
     },
     "execution_count": 6,
     "metadata": {},
     "output_type": "execute_result"
    }
   ],
   "source": [
    "total=maths + physics\n",
    "total"
   ]
  },
  {
   "cell_type": "code",
   "execution_count": 9,
   "id": "9dafcf43",
   "metadata": {},
   "outputs": [
    {
     "data": {
      "text/plain": [
       "array([7396, 8836, 9604, 9801, 8464])"
      ]
     },
     "execution_count": 9,
     "metadata": {},
     "output_type": "execute_result"
    }
   ],
   "source": [
    "maths**2"
   ]
  },
  {
   "cell_type": "code",
   "execution_count": 10,
   "id": "b8098b4f",
   "metadata": {},
   "outputs": [
    {
     "data": {
      "text/plain": [
       "(array([6.42626475, 6.55458885, 6.61470984, 6.62935662, 6.52356196]),\n",
       " array([1.93449845, 1.97312785, 1.99122608, 1.99563519, 1.96378783]))"
      ]
     },
     "execution_count": 10,
     "metadata": {},
     "output_type": "execute_result"
    }
   ],
   "source": [
    "np.log2(maths),np.log10(maths)"
   ]
  },
  {
   "cell_type": "code",
   "execution_count": 11,
   "id": "e924468e",
   "metadata": {},
   "outputs": [],
   "source": [
    "angles =np.array([0,30,45,60,90])"
   ]
  },
  {
   "cell_type": "code",
   "execution_count": 12,
   "id": "a7ffaaea",
   "metadata": {},
   "outputs": [
    {
     "data": {
      "text/plain": [
       "(array([0.        , 0.5       , 0.70710678, 0.8660254 , 1.        ]),\n",
       " array([1.00000000e+00, 8.66025404e-01, 7.07106781e-01, 5.00000000e-01,\n",
       "        6.12323400e-17]))"
      ]
     },
     "execution_count": 12,
     "metadata": {},
     "output_type": "execute_result"
    }
   ],
   "source": [
    "np.sin(np.radians(angles)), np.cos(np.radians(angles))"
   ]
  },
  {
   "cell_type": "code",
   "execution_count": null,
   "id": "dd88c4ae",
   "metadata": {},
   "outputs": [],
   "source": []
  },
  {
   "cell_type": "code",
   "execution_count": 14,
   "id": "9cb16b61",
   "metadata": {},
   "outputs": [],
   "source": [
    "import numpy as np"
   ]
  },
  {
   "cell_type": "code",
   "execution_count": 21,
   "id": "1bd2ad3c",
   "metadata": {},
   "outputs": [
    {
     "data": {
      "text/plain": [
       "(array([89, 91, 98, 94, 83, 99]),\n",
       " (6,),\n",
       " array([[89, 91, 98],\n",
       "        [94, 83, 99]]),\n",
       " 92.33333333333333)"
      ]
     },
     "execution_count": 21,
     "metadata": {},
     "output_type": "execute_result"
    }
   ],
   "source": [
    "marks = np.array([89,91,98,94,83,99])\n",
    "s = marks.shape\n",
    "r = marks.reshape(2,3)\n",
    "m = np.mean(marks)\n",
    "marks,s,r,m"
   ]
  },
  {
   "cell_type": "code",
   "execution_count": 24,
   "id": "5885aa4e",
   "metadata": {},
   "outputs": [
    {
     "data": {
      "text/plain": [
       "array([0.86, 0.94, 0.98, 0.99, 0.92])"
      ]
     },
     "execution_count": 24,
     "metadata": {},
     "output_type": "execute_result"
    }
   ],
   "source": [
    "maths=np.array([86,94,98,99,92]) #1d-array is a collection of elements\n",
    "maths/100"
   ]
  },
  {
   "cell_type": "code",
   "execution_count": 29,
   "id": "777678c7",
   "metadata": {},
   "outputs": [
    {
     "data": {
      "text/plain": [
       "(array([[86, 94, 98, 99, 92],\n",
       "        [89, 91, 86, 83, 95],\n",
       "        [94, 96, 89, 91, 93]]),\n",
       " (3, 5),\n",
       " 2)"
      ]
     },
     "execution_count": 29,
     "metadata": {},
     "output_type": "execute_result"
    }
   ],
   "source": [
    "maths=np.array([86,94,98,99,92])\n",
    "physics=np.array([89,91,86,83,95])\n",
    "chemistry=np.array([94,96,89,91,93])\n",
    "marks = np.array([[86,94,98,99,92],\n",
    "                 [89,91,86,83,95],\n",
    "                 [94,96,89,91,93]]) #2d-array is a set of 1d-array\n",
    "marks, marks.shape, marks.ndim"
   ]
  },
  {
   "cell_type": "code",
   "execution_count": 30,
   "id": "b95a7653",
   "metadata": {},
   "outputs": [
    {
     "data": {
      "text/plain": [
       "(array([[1, 2, 3],\n",
       "        [4, 5, 6],\n",
       "        [7, 8, 9],\n",
       "        [1, 1, 1],\n",
       "        [9, 8, 7]]),\n",
       " (5, 3),\n",
       " 2)"
      ]
     },
     "execution_count": 30,
     "metadata": {},
     "output_type": "execute_result"
    }
   ],
   "source": [
    "#create a (5,3) array\n",
    "x=np.array([[1,2,3],[4,5,6],[7,8,9],[1,1,1],[9,8,7]])\n",
    "x,x.shape,x.ndim #attribute"
   ]
  },
  {
   "cell_type": "code",
   "execution_count": 39,
   "id": "f8c381a0",
   "metadata": {},
   "outputs": [
    {
     "data": {
      "text/plain": [
       "(array([[ 4,  4,  4],\n",
       "        [10, 10, 10]]),\n",
       " array([[-2,  0,  2],\n",
       "        [-2,  0,  2]]),\n",
       " array([[ 3,  4,  3],\n",
       "        [24, 25, 24]]),\n",
       " array([[0.33333333, 1.        , 3.        ],\n",
       "        [0.66666667, 1.        , 1.5       ]]),\n",
       " array([[   1,    4,    3],\n",
       "        [4096, 3125, 1296]]),\n",
       " array([[   3,    4,    1],\n",
       "        [1296, 3125, 4096]]))"
      ]
     },
     "execution_count": 39,
     "metadata": {},
     "output_type": "execute_result"
    }
   ],
   "source": [
    "m3=np.array([[1,2,3],[4,5,6]])\n",
    "\n",
    "m4=np.array([[3,2,1],[6,5,4]])\n",
    "\n",
    "m3+m4,m3-m4,m3*m4,m3/m4, m3**m4, m4**m3"
   ]
  },
  {
   "cell_type": "code",
   "execution_count": 40,
   "id": "65ea01b9",
   "metadata": {},
   "outputs": [
    {
     "data": {
      "text/plain": [
       "array([[28, 34],\n",
       "       [64, 79]])"
      ]
     },
     "execution_count": 40,
     "metadata": {},
     "output_type": "execute_result"
    }
   ],
   "source": [
    "m2=np.array([[2,3],[4,5],[6,7]])\n",
    "d=m3.dot(m2) #method\n",
    "d"
   ]
  },
  {
   "cell_type": "code",
   "execution_count": 41,
   "id": "8707c351",
   "metadata": {},
   "outputs": [
    {
     "data": {
      "text/plain": [
       "array([[14, 19, 24],\n",
       "       [24, 33, 42],\n",
       "       [34, 47, 60]])"
      ]
     },
     "execution_count": 41,
     "metadata": {},
     "output_type": "execute_result"
    }
   ],
   "source": [
    "d1=m2.dot(m3)\n",
    "d1"
   ]
  },
  {
   "cell_type": "code",
   "execution_count": 42,
   "id": "f0e379f6",
   "metadata": {},
   "outputs": [
    {
     "data": {
      "text/plain": [
       "array([[1, 2, 3],\n",
       "       [4, 5, 6]])"
      ]
     },
     "execution_count": 42,
     "metadata": {},
     "output_type": "execute_result"
    }
   ],
   "source": [
    "m3"
   ]
  },
  {
   "cell_type": "code",
   "execution_count": 43,
   "id": "54e73c54",
   "metadata": {},
   "outputs": [
    {
     "data": {
      "text/plain": [
       "array([[1, 4],\n",
       "       [2, 5],\n",
       "       [3, 6]])"
      ]
     },
     "execution_count": 43,
     "metadata": {},
     "output_type": "execute_result"
    }
   ],
   "source": [
    "m3.transpose()"
   ]
  },
  {
   "cell_type": "code",
   "execution_count": 44,
   "id": "3ff9b1a1",
   "metadata": {},
   "outputs": [
    {
     "data": {
      "text/plain": [
       "array([0, 1, 2, 3, 4, 5, 6, 7, 8, 9])"
      ]
     },
     "execution_count": 44,
     "metadata": {},
     "output_type": "execute_result"
    }
   ],
   "source": [
    "#generating a seq of no.\n",
    "#np.arange(start, stop, step)\n",
    "np.arange(10)"
   ]
  },
  {
   "cell_type": "code",
   "execution_count": 47,
   "id": "5670fcd6",
   "metadata": {},
   "outputs": [
    {
     "data": {
      "text/plain": [
       "((25,),\n",
       " 1,\n",
       " numpy.ndarray,\n",
       " array([ 1,  3,  5,  7,  9, 11, 13, 15, 17, 19, 21, 23, 25, 27, 29, 31, 33,\n",
       "        35, 37, 39, 41, 43, 45, 47, 49]))"
      ]
     },
     "execution_count": 47,
     "metadata": {},
     "output_type": "execute_result"
    }
   ],
   "source": [
    "x1=np.arange(1,50,2)\n",
    "x1.shape,x1.ndim,type(x1), x1"
   ]
  },
  {
   "cell_type": "code",
   "execution_count": 6,
   "id": "6f64a93b",
   "metadata": {},
   "outputs": [
    {
     "data": {
      "text/plain": [
       "array([ 1. ,  1.5,  2. ,  2.5,  3. ,  3.5,  4. ,  4.5,  5. ,  5.5,  6. ,\n",
       "        6.5,  7. ,  7.5,  8. ,  8.5,  9. ,  9.5, 10. ])"
      ]
     },
     "execution_count": 6,
     "metadata": {},
     "output_type": "execute_result"
    }
   ],
   "source": [
    "np.linspace(1,10, 19)"
   ]
  },
  {
   "cell_type": "code",
   "execution_count": 7,
   "id": "3d05a29f",
   "metadata": {},
   "outputs": [
    {
     "data": {
      "text/plain": [
       "0.5"
      ]
     },
     "execution_count": 7,
     "metadata": {},
     "output_type": "execute_result"
    }
   ],
   "source": [
    "(10-1)/(19-1) #[(stop-start)/(n-1)]"
   ]
  },
  {
   "cell_type": "code",
   "execution_count": 8,
   "id": "5710448b",
   "metadata": {},
   "outputs": [
    {
     "data": {
      "text/plain": [
       "array([ 1.  ,  1.25,  1.5 ,  1.75,  2.  ,  2.25,  2.5 ,  2.75,  3.  ,\n",
       "        3.25,  3.5 ,  3.75,  4.  ,  4.25,  4.5 ,  4.75,  5.  ,  5.25,\n",
       "        5.5 ,  5.75,  6.  ,  6.25,  6.5 ,  6.75,  7.  ,  7.25,  7.5 ,\n",
       "        7.75,  8.  ,  8.25,  8.5 ,  8.75,  9.  ,  9.25,  9.5 ,  9.75,\n",
       "       10.  , 10.25, 10.5 , 10.75, 11.  , 11.25, 11.5 , 11.75, 12.  ,\n",
       "       12.25, 12.5 , 12.75, 13.  , 13.25, 13.5 , 13.75, 14.  , 14.25,\n",
       "       14.5 , 14.75, 15.  , 15.25, 15.5 , 15.75, 16.  , 16.25, 16.5 ,\n",
       "       16.75, 17.  , 17.25, 17.5 , 17.75, 18.  , 18.25, 18.5 , 18.75,\n",
       "       19.  , 19.25, 19.5 , 19.75, 20.  ])"
      ]
     },
     "execution_count": 8,
     "metadata": {},
     "output_type": "execute_result"
    }
   ],
   "source": [
    "np.linspace(1,20,77) #in linspace the end point includes"
   ]
  },
  {
   "cell_type": "code",
   "execution_count": 10,
   "id": "ecd6f354",
   "metadata": {},
   "outputs": [
    {
     "data": {
      "text/plain": [
       "array([1.  , 1.45, 1.9 , 2.35, 2.8 , 3.25, 3.7 , 4.15, 4.6 , 5.05, 5.5 ,\n",
       "       5.95, 6.4 , 6.85, 7.3 , 7.75, 8.2 , 8.65, 9.1 , 9.55])"
      ]
     },
     "execution_count": 10,
     "metadata": {},
     "output_type": "execute_result"
    }
   ],
   "source": [
    "np.linspace(1,10,20,endpoint=False) #by defualt the endpoint is True, [(stop-start)/n]"
   ]
  },
  {
   "cell_type": "code",
   "execution_count": 11,
   "id": "0c2598c9",
   "metadata": {},
   "outputs": [
    {
     "data": {
      "text/plain": [
       "array([ 1.        ,  1.47368421,  1.94736842,  2.42105263,  2.89473684,\n",
       "        3.36842105,  3.84210526,  4.31578947,  4.78947368,  5.26315789,\n",
       "        5.73684211,  6.21052632,  6.68421053,  7.15789474,  7.63157895,\n",
       "        8.10526316,  8.57894737,  9.05263158,  9.52631579, 10.        ])"
      ]
     },
     "execution_count": 11,
     "metadata": {},
     "output_type": "execute_result"
    }
   ],
   "source": [
    "np.linspace(1,10,20)"
   ]
  },
  {
   "cell_type": "code",
   "execution_count": null,
   "id": "0561610d",
   "metadata": {},
   "outputs": [],
   "source": []
  }
 ],
 "metadata": {
  "kernelspec": {
   "display_name": "Python 3 (ipykernel)",
   "language": "python",
   "name": "python3"
  },
  "language_info": {
   "codemirror_mode": {
    "name": "ipython",
    "version": 3
   },
   "file_extension": ".py",
   "mimetype": "text/x-python",
   "name": "python",
   "nbconvert_exporter": "python",
   "pygments_lexer": "ipython3",
   "version": "3.9.13"
  }
 },
 "nbformat": 4,
 "nbformat_minor": 5
}
