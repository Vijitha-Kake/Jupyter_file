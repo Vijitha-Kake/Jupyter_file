{
 "cells": [
  {
   "cell_type": "code",
   "execution_count": 1,
   "id": "8ca36211",
   "metadata": {},
   "outputs": [],
   "source": [
    "import pandas as pd"
   ]
  },
  {
   "cell_type": "code",
   "execution_count": 5,
   "id": "5976c6a4",
   "metadata": {},
   "outputs": [
    {
     "data": {
      "text/html": [
       "<div>\n",
       "<style scoped>\n",
       "    .dataframe tbody tr th:only-of-type {\n",
       "        vertical-align: middle;\n",
       "    }\n",
       "\n",
       "    .dataframe tbody tr th {\n",
       "        vertical-align: top;\n",
       "    }\n",
       "\n",
       "    .dataframe thead th {\n",
       "        text-align: right;\n",
       "    }\n",
       "</style>\n",
       "<table border=\"1\" class=\"dataframe\">\n",
       "  <thead>\n",
       "    <tr style=\"text-align: right;\">\n",
       "      <th></th>\n",
       "      <th>emp.no.</th>\n",
       "      <th>emp.name</th>\n",
       "      <th>sal</th>\n",
       "      <th>deptno.</th>\n",
       "    </tr>\n",
       "  </thead>\n",
       "  <tbody>\n",
       "    <tr>\n",
       "      <th>0</th>\n",
       "      <td>1001</td>\n",
       "      <td>abc</td>\n",
       "      <td>2000</td>\n",
       "      <td>20</td>\n",
       "    </tr>\n",
       "    <tr>\n",
       "      <th>1</th>\n",
       "      <td>1002</td>\n",
       "      <td>def</td>\n",
       "      <td>2100</td>\n",
       "      <td>30</td>\n",
       "    </tr>\n",
       "    <tr>\n",
       "      <th>2</th>\n",
       "      <td>1003</td>\n",
       "      <td>ghi</td>\n",
       "      <td>2200</td>\n",
       "      <td>10</td>\n",
       "    </tr>\n",
       "    <tr>\n",
       "      <th>3</th>\n",
       "      <td>1004</td>\n",
       "      <td>jkl</td>\n",
       "      <td>2300</td>\n",
       "      <td>30</td>\n",
       "    </tr>\n",
       "    <tr>\n",
       "      <th>4</th>\n",
       "      <td>1005</td>\n",
       "      <td>mnl</td>\n",
       "      <td>2400</td>\n",
       "      <td>10</td>\n",
       "    </tr>\n",
       "    <tr>\n",
       "      <th>5</th>\n",
       "      <td>1006</td>\n",
       "      <td>opq</td>\n",
       "      <td>2500</td>\n",
       "      <td>20</td>\n",
       "    </tr>\n",
       "    <tr>\n",
       "      <th>6</th>\n",
       "      <td>1007</td>\n",
       "      <td>rst</td>\n",
       "      <td>2600</td>\n",
       "      <td>50</td>\n",
       "    </tr>\n",
       "  </tbody>\n",
       "</table>\n",
       "</div>"
      ],
      "text/plain": [
       "   emp.no. emp.name   sal  deptno.\n",
       "0     1001      abc  2000       20\n",
       "1     1002      def  2100       30\n",
       "2     1003      ghi  2200       10\n",
       "3     1004      jkl  2300       30\n",
       "4     1005      mnl  2400       10\n",
       "5     1006      opq  2500       20\n",
       "6     1007      rst  2600       50"
      ]
     },
     "execution_count": 5,
     "metadata": {},
     "output_type": "execute_result"
    }
   ],
   "source": [
    "emp=pd.DataFrame({'emp.no.':[1001,1002,1003,1004,1005,1006,1007],\n",
    "                          'emp.name':['abc','def','ghi','jkl','mnl','opq','rst'],\n",
    "                          'sal':[2000,2100,2200,2300,2400,2500,2600],\n",
    "                          'deptno.':[20,30,10,30,10,20,50]})\n",
    "emp"
   ]
  },
  {
   "cell_type": "code",
   "execution_count": 2,
   "id": "9df4f225",
   "metadata": {},
   "outputs": [
    {
     "data": {
      "text/html": [
       "<div>\n",
       "<style scoped>\n",
       "    .dataframe tbody tr th:only-of-type {\n",
       "        vertical-align: middle;\n",
       "    }\n",
       "\n",
       "    .dataframe tbody tr th {\n",
       "        vertical-align: top;\n",
       "    }\n",
       "\n",
       "    .dataframe thead th {\n",
       "        text-align: right;\n",
       "    }\n",
       "</style>\n",
       "<table border=\"1\" class=\"dataframe\">\n",
       "  <thead>\n",
       "    <tr style=\"text-align: right;\">\n",
       "      <th></th>\n",
       "      <th>deptno.</th>\n",
       "      <th>Dname</th>\n",
       "      <th>location</th>\n",
       "    </tr>\n",
       "  </thead>\n",
       "  <tbody>\n",
       "    <tr>\n",
       "      <th>0</th>\n",
       "      <td>10</td>\n",
       "      <td>accounts</td>\n",
       "      <td>Hyd</td>\n",
       "    </tr>\n",
       "    <tr>\n",
       "      <th>1</th>\n",
       "      <td>20</td>\n",
       "      <td>sales</td>\n",
       "      <td>Chennai</td>\n",
       "    </tr>\n",
       "    <tr>\n",
       "      <th>2</th>\n",
       "      <td>30</td>\n",
       "      <td>research</td>\n",
       "      <td>Mumbai</td>\n",
       "    </tr>\n",
       "    <tr>\n",
       "      <th>3</th>\n",
       "      <td>40</td>\n",
       "      <td>operations</td>\n",
       "      <td>Bengaluru</td>\n",
       "    </tr>\n",
       "  </tbody>\n",
       "</table>\n",
       "</div>"
      ],
      "text/plain": [
       "   deptno.       Dname   location\n",
       "0       10    accounts        Hyd\n",
       "1       20       sales    Chennai\n",
       "2       30    research     Mumbai\n",
       "3       40  operations  Bengaluru"
      ]
     },
     "execution_count": 2,
     "metadata": {},
     "output_type": "execute_result"
    }
   ],
   "source": [
    "dept=pd.DataFrame({'deptno.':[10,20,30,40],\n",
    "                  'Dname':['accounts','sales','research','operations'],\n",
    "                  'location':['Hyd','Chennai','Mumbai','Bengaluru']})\n",
    "dept"
   ]
  },
  {
   "cell_type": "code",
   "execution_count": 6,
   "id": "e04749be",
   "metadata": {},
   "outputs": [
    {
     "data": {
      "text/html": [
       "<div>\n",
       "<style scoped>\n",
       "    .dataframe tbody tr th:only-of-type {\n",
       "        vertical-align: middle;\n",
       "    }\n",
       "\n",
       "    .dataframe tbody tr th {\n",
       "        vertical-align: top;\n",
       "    }\n",
       "\n",
       "    .dataframe thead th {\n",
       "        text-align: right;\n",
       "    }\n",
       "</style>\n",
       "<table border=\"1\" class=\"dataframe\">\n",
       "  <thead>\n",
       "    <tr style=\"text-align: right;\">\n",
       "      <th></th>\n",
       "      <th>emp.no.</th>\n",
       "      <th>emp.name</th>\n",
       "      <th>sal</th>\n",
       "      <th>deptno.</th>\n",
       "      <th>Dname</th>\n",
       "      <th>location</th>\n",
       "    </tr>\n",
       "  </thead>\n",
       "  <tbody>\n",
       "    <tr>\n",
       "      <th>0</th>\n",
       "      <td>1001</td>\n",
       "      <td>abc</td>\n",
       "      <td>2000</td>\n",
       "      <td>20</td>\n",
       "      <td>sales</td>\n",
       "      <td>Chennai</td>\n",
       "    </tr>\n",
       "    <tr>\n",
       "      <th>1</th>\n",
       "      <td>1006</td>\n",
       "      <td>opq</td>\n",
       "      <td>2500</td>\n",
       "      <td>20</td>\n",
       "      <td>sales</td>\n",
       "      <td>Chennai</td>\n",
       "    </tr>\n",
       "    <tr>\n",
       "      <th>2</th>\n",
       "      <td>1002</td>\n",
       "      <td>def</td>\n",
       "      <td>2100</td>\n",
       "      <td>30</td>\n",
       "      <td>research</td>\n",
       "      <td>Mumbai</td>\n",
       "    </tr>\n",
       "    <tr>\n",
       "      <th>3</th>\n",
       "      <td>1004</td>\n",
       "      <td>jkl</td>\n",
       "      <td>2300</td>\n",
       "      <td>30</td>\n",
       "      <td>research</td>\n",
       "      <td>Mumbai</td>\n",
       "    </tr>\n",
       "    <tr>\n",
       "      <th>4</th>\n",
       "      <td>1003</td>\n",
       "      <td>ghi</td>\n",
       "      <td>2200</td>\n",
       "      <td>10</td>\n",
       "      <td>accounts</td>\n",
       "      <td>Hyd</td>\n",
       "    </tr>\n",
       "    <tr>\n",
       "      <th>5</th>\n",
       "      <td>1005</td>\n",
       "      <td>mnl</td>\n",
       "      <td>2400</td>\n",
       "      <td>10</td>\n",
       "      <td>accounts</td>\n",
       "      <td>Hyd</td>\n",
       "    </tr>\n",
       "  </tbody>\n",
       "</table>\n",
       "</div>"
      ],
      "text/plain": [
       "   emp.no. emp.name   sal  deptno.     Dname location\n",
       "0     1001      abc  2000       20     sales  Chennai\n",
       "1     1006      opq  2500       20     sales  Chennai\n",
       "2     1002      def  2100       30  research   Mumbai\n",
       "3     1004      jkl  2300       30  research   Mumbai\n",
       "4     1003      ghi  2200       10  accounts      Hyd\n",
       "5     1005      mnl  2400       10  accounts      Hyd"
      ]
     },
     "execution_count": 6,
     "metadata": {},
     "output_type": "execute_result"
    }
   ],
   "source": [
    "pd.merge(left=emp,right=dept,on='deptno.',how='inner')"
   ]
  },
  {
   "cell_type": "code",
   "execution_count": 7,
   "id": "f42dcbc6",
   "metadata": {},
   "outputs": [
    {
     "data": {
      "text/html": [
       "<div>\n",
       "<style scoped>\n",
       "    .dataframe tbody tr th:only-of-type {\n",
       "        vertical-align: middle;\n",
       "    }\n",
       "\n",
       "    .dataframe tbody tr th {\n",
       "        vertical-align: top;\n",
       "    }\n",
       "\n",
       "    .dataframe thead th {\n",
       "        text-align: right;\n",
       "    }\n",
       "</style>\n",
       "<table border=\"1\" class=\"dataframe\">\n",
       "  <thead>\n",
       "    <tr style=\"text-align: right;\">\n",
       "      <th></th>\n",
       "      <th>emp.no.</th>\n",
       "      <th>emp.name</th>\n",
       "      <th>sal</th>\n",
       "      <th>deptno.</th>\n",
       "      <th>Dname</th>\n",
       "      <th>location</th>\n",
       "    </tr>\n",
       "  </thead>\n",
       "  <tbody>\n",
       "    <tr>\n",
       "      <th>0</th>\n",
       "      <td>1001.0</td>\n",
       "      <td>abc</td>\n",
       "      <td>2000.0</td>\n",
       "      <td>20</td>\n",
       "      <td>sales</td>\n",
       "      <td>Chennai</td>\n",
       "    </tr>\n",
       "    <tr>\n",
       "      <th>1</th>\n",
       "      <td>1006.0</td>\n",
       "      <td>opq</td>\n",
       "      <td>2500.0</td>\n",
       "      <td>20</td>\n",
       "      <td>sales</td>\n",
       "      <td>Chennai</td>\n",
       "    </tr>\n",
       "    <tr>\n",
       "      <th>2</th>\n",
       "      <td>1002.0</td>\n",
       "      <td>def</td>\n",
       "      <td>2100.0</td>\n",
       "      <td>30</td>\n",
       "      <td>research</td>\n",
       "      <td>Mumbai</td>\n",
       "    </tr>\n",
       "    <tr>\n",
       "      <th>3</th>\n",
       "      <td>1004.0</td>\n",
       "      <td>jkl</td>\n",
       "      <td>2300.0</td>\n",
       "      <td>30</td>\n",
       "      <td>research</td>\n",
       "      <td>Mumbai</td>\n",
       "    </tr>\n",
       "    <tr>\n",
       "      <th>4</th>\n",
       "      <td>1003.0</td>\n",
       "      <td>ghi</td>\n",
       "      <td>2200.0</td>\n",
       "      <td>10</td>\n",
       "      <td>accounts</td>\n",
       "      <td>Hyd</td>\n",
       "    </tr>\n",
       "    <tr>\n",
       "      <th>5</th>\n",
       "      <td>1005.0</td>\n",
       "      <td>mnl</td>\n",
       "      <td>2400.0</td>\n",
       "      <td>10</td>\n",
       "      <td>accounts</td>\n",
       "      <td>Hyd</td>\n",
       "    </tr>\n",
       "    <tr>\n",
       "      <th>6</th>\n",
       "      <td>1007.0</td>\n",
       "      <td>rst</td>\n",
       "      <td>2600.0</td>\n",
       "      <td>50</td>\n",
       "      <td>NaN</td>\n",
       "      <td>NaN</td>\n",
       "    </tr>\n",
       "    <tr>\n",
       "      <th>7</th>\n",
       "      <td>NaN</td>\n",
       "      <td>NaN</td>\n",
       "      <td>NaN</td>\n",
       "      <td>40</td>\n",
       "      <td>operations</td>\n",
       "      <td>Bengaluru</td>\n",
       "    </tr>\n",
       "  </tbody>\n",
       "</table>\n",
       "</div>"
      ],
      "text/plain": [
       "   emp.no. emp.name     sal  deptno.       Dname   location\n",
       "0   1001.0      abc  2000.0       20       sales    Chennai\n",
       "1   1006.0      opq  2500.0       20       sales    Chennai\n",
       "2   1002.0      def  2100.0       30    research     Mumbai\n",
       "3   1004.0      jkl  2300.0       30    research     Mumbai\n",
       "4   1003.0      ghi  2200.0       10    accounts        Hyd\n",
       "5   1005.0      mnl  2400.0       10    accounts        Hyd\n",
       "6   1007.0      rst  2600.0       50         NaN        NaN\n",
       "7      NaN      NaN     NaN       40  operations  Bengaluru"
      ]
     },
     "execution_count": 7,
     "metadata": {},
     "output_type": "execute_result"
    }
   ],
   "source": [
    "pd.merge(left=emp,right=dept,on='deptno.',how='outer')"
   ]
  },
  {
   "cell_type": "code",
   "execution_count": 8,
   "id": "ba04bf41",
   "metadata": {},
   "outputs": [
    {
     "name": "stdout",
     "output_type": "stream",
     "text": [
      "   emp.no. emp.name   sal  deptno.     Dname location\n",
      "0     1001      abc  2000       20     sales  Chennai\n",
      "1     1002      def  2100       30  research   Mumbai\n",
      "2     1003      ghi  2200       10  accounts      Hyd\n",
      "3     1004      jkl  2300       30  research   Mumbai\n",
      "4     1005      mnl  2400       10  accounts      Hyd\n",
      "5     1006      opq  2500       20     sales  Chennai\n",
      "6     1007      rst  2600       50       NaN      NaN\n"
     ]
    },
    {
     "data": {
      "text/html": [
       "<div>\n",
       "<style scoped>\n",
       "    .dataframe tbody tr th:only-of-type {\n",
       "        vertical-align: middle;\n",
       "    }\n",
       "\n",
       "    .dataframe tbody tr th {\n",
       "        vertical-align: top;\n",
       "    }\n",
       "\n",
       "    .dataframe thead th {\n",
       "        text-align: right;\n",
       "    }\n",
       "</style>\n",
       "<table border=\"1\" class=\"dataframe\">\n",
       "  <thead>\n",
       "    <tr style=\"text-align: right;\">\n",
       "      <th></th>\n",
       "      <th>emp.no.</th>\n",
       "      <th>emp.name</th>\n",
       "      <th>sal</th>\n",
       "      <th>deptno.</th>\n",
       "      <th>Dname</th>\n",
       "      <th>location</th>\n",
       "    </tr>\n",
       "  </thead>\n",
       "  <tbody>\n",
       "    <tr>\n",
       "      <th>0</th>\n",
       "      <td>1003.0</td>\n",
       "      <td>ghi</td>\n",
       "      <td>2200.0</td>\n",
       "      <td>10</td>\n",
       "      <td>accounts</td>\n",
       "      <td>Hyd</td>\n",
       "    </tr>\n",
       "    <tr>\n",
       "      <th>1</th>\n",
       "      <td>1005.0</td>\n",
       "      <td>mnl</td>\n",
       "      <td>2400.0</td>\n",
       "      <td>10</td>\n",
       "      <td>accounts</td>\n",
       "      <td>Hyd</td>\n",
       "    </tr>\n",
       "    <tr>\n",
       "      <th>2</th>\n",
       "      <td>1001.0</td>\n",
       "      <td>abc</td>\n",
       "      <td>2000.0</td>\n",
       "      <td>20</td>\n",
       "      <td>sales</td>\n",
       "      <td>Chennai</td>\n",
       "    </tr>\n",
       "    <tr>\n",
       "      <th>3</th>\n",
       "      <td>1006.0</td>\n",
       "      <td>opq</td>\n",
       "      <td>2500.0</td>\n",
       "      <td>20</td>\n",
       "      <td>sales</td>\n",
       "      <td>Chennai</td>\n",
       "    </tr>\n",
       "    <tr>\n",
       "      <th>4</th>\n",
       "      <td>1002.0</td>\n",
       "      <td>def</td>\n",
       "      <td>2100.0</td>\n",
       "      <td>30</td>\n",
       "      <td>research</td>\n",
       "      <td>Mumbai</td>\n",
       "    </tr>\n",
       "    <tr>\n",
       "      <th>5</th>\n",
       "      <td>1004.0</td>\n",
       "      <td>jkl</td>\n",
       "      <td>2300.0</td>\n",
       "      <td>30</td>\n",
       "      <td>research</td>\n",
       "      <td>Mumbai</td>\n",
       "    </tr>\n",
       "    <tr>\n",
       "      <th>6</th>\n",
       "      <td>NaN</td>\n",
       "      <td>NaN</td>\n",
       "      <td>NaN</td>\n",
       "      <td>40</td>\n",
       "      <td>operations</td>\n",
       "      <td>Bengaluru</td>\n",
       "    </tr>\n",
       "  </tbody>\n",
       "</table>\n",
       "</div>"
      ],
      "text/plain": [
       "   emp.no. emp.name     sal  deptno.       Dname   location\n",
       "0   1003.0      ghi  2200.0       10    accounts        Hyd\n",
       "1   1005.0      mnl  2400.0       10    accounts        Hyd\n",
       "2   1001.0      abc  2000.0       20       sales    Chennai\n",
       "3   1006.0      opq  2500.0       20       sales    Chennai\n",
       "4   1002.0      def  2100.0       30    research     Mumbai\n",
       "5   1004.0      jkl  2300.0       30    research     Mumbai\n",
       "6      NaN      NaN     NaN       40  operations  Bengaluru"
      ]
     },
     "execution_count": 8,
     "metadata": {},
     "output_type": "execute_result"
    }
   ],
   "source": [
    "print(pd.merge(left=emp,right=dept,on='deptno.',how='left'))\n",
    "pd.merge(left=emp,right=dept,on='deptno.',how='right')"
   ]
  },
  {
   "cell_type": "code",
   "execution_count": 14,
   "id": "e03b6957",
   "metadata": {},
   "outputs": [
    {
     "data": {
      "image/png": "[encoded data removed]",
      "text/plain": [
       "<Figure size 640x480 with 1 Axes>"
      ]
     },
     "metadata": {},
     "output_type": "display_data"
    }
   ],
   "source": [
    "import numpy as np\n",
    "import matplotlib.pyplot as plt\n",
    "\n",
    "income=np.random.normal(100,80,10000)\n",
    "plt.hist(income,50)\n",
    "plt.show()"
   ]
  },
  {
   "cell_type": "code",
   "execution_count": 4,
   "id": "1c28f9ad",
   "metadata": {},
   "outputs": [
    {
     "data": {
      "text/plain": [
       "99.81718231036352"
      ]
     },
     "execution_count": 4,
     "metadata": {},
     "output_type": "execute_result"
    }
   ],
   "source": [
    "np.mean(income)"
   ]
  },
  {
   "cell_type": "code",
   "execution_count": 5,
   "id": "2bd2f8ee",
   "metadata": {},
   "outputs": [
    {
     "data": {
      "text/plain": [
       "99.98723109299596"
      ]
     },
     "execution_count": 5,
     "metadata": {},
     "output_type": "execute_result"
    }
   ],
   "source": [
    "np.median(income)"
   ]
  },
  {
   "cell_type": "raw",
   "id": "b503039a",
   "metadata": {},
   "source": [
    "income.std()"
   ]
  },
  {
   "cell_type": "code",
   "execution_count": 10,
   "id": "ac5de944",
   "metadata": {},
   "outputs": [
    {
     "data": {
      "text/plain": [
       "2452.8413514426684"
      ]
     },
     "execution_count": 10,
     "metadata": {},
     "output_type": "execute_result"
    }
   ],
   "source": [
    "income.var()"
   ]
  },
  {
   "cell_type": "code",
   "execution_count": 18,
   "id": "00ec5f62",
   "metadata": {},
   "outputs": [
    {
     "data": {
      "text/plain": [
       "array([18, 19, 12, 17, 23, 13, 18,  8, 22, 20])"
      ]
     },
     "execution_count": 18,
     "metadata": {},
     "output_type": "execute_result"
    }
   ],
   "source": [
    "age=np.random.randint(8,24,10)\n",
    "age"
   ]
  },
  {
   "cell_type": "code",
   "execution_count": 19,
   "id": "faea587c",
   "metadata": {},
   "outputs": [
    {
     "data": {
      "text/plain": [
       "array([3, 6, 6, 6, 4, 6, 6, 4, 7, 6])"
      ]
     },
     "execution_count": 19,
     "metadata": {},
     "output_type": "execute_result"
    }
   ],
   "source": [
    "time=np.random.randint(3,8,10)\n",
    "time"
   ]
  },
  {
   "cell_type": "code",
   "execution_count": 22,
   "id": "8fd15931",
   "metadata": {},
   "outputs": [
    {
     "data": {
      "image/png": "[encoded data removed]",
      "text/plain": [
       "<Figure size 640x480 with 1 Axes>"
      ]
     },
     "metadata": {},
     "output_type": "display_data"
    }
   ],
   "source": [
    "plt.scatter(x=age,y=time)\n",
    "plt.xlabel('Age')\n",
    "plt.ylabel('Time')\n",
    "plt.title('Time spent watching tv')\n",
    "plt.show()"
   ]
  },
  {
   "cell_type": "code",
   "execution_count": 25,
   "id": "3ea551a8",
   "metadata": {},
   "outputs": [],
   "source": [
    "def loan_emi(amount,duration,down_payment=0):\n",
    "    loan_amt=amount-down_payment\n",
    "    emi=loan_amt/duration\n",
    "    return(emi)"
   ]
  },
  {
   "cell_type": "code",
   "execution_count": 31,
   "id": "f205efa8",
   "metadata": {},
   "outputs": [],
   "source": [
    "import math"
   ]
  },
  {
   "cell_type": "code",
   "execution_count": 26,
   "id": "ef392daf",
   "metadata": {},
   "outputs": [
    {
     "data": {
      "text/plain": [
       "10000.0"
      ]
     },
     "execution_count": 26,
     "metadata": {},
     "output_type": "execute_result"
    }
   ],
   "source": [
    "emi1=loan_emi(1260000,8*12,300000)\n",
    "emi1"
   ]
  },
  {
   "cell_type": "code",
   "execution_count": 27,
   "id": "eba20ae7",
   "metadata": {},
   "outputs": [
    {
     "data": {
      "text/plain": [
       "10500.0"
      ]
     },
     "execution_count": 27,
     "metadata": {},
     "output_type": "execute_result"
    }
   ],
   "source": [
    "emi2=loan_emi(1260000,10*12)\n",
    "emi2"
   ]
  },
  {
   "cell_type": "code",
   "execution_count": 36,
   "id": "deec763d",
   "metadata": {},
   "outputs": [],
   "source": [
    "def loan_emi(amount,duration,monthly_rate,down_payment=0):\n",
    "    loan_amt=amount-down_payment\n",
    "    emi = loan_amt * monthly_rate * (1 + monthly_rate)**duration / ((1 + monthly_rate)**duration - 1)\n",
    "    emi_rounded = math.ceil(emi)\n",
    "    return emi_rounded"
   ]
  },
  {
   "cell_type": "code",
   "execution_count": 33,
   "id": "645d0bb3",
   "metadata": {},
   "outputs": [
    {
     "data": {
      "text/plain": [
       "14568"
      ]
     },
     "execution_count": 33,
     "metadata": {},
     "output_type": "execute_result"
    }
   ],
   "source": [
    "emi1=loan_emi(1260000,8*12,0.1/12,300000)\n",
    "emi1"
   ]
  },
  {
   "cell_type": "code",
   "execution_count": 34,
   "id": "80eb9c73",
   "metadata": {},
   "outputs": [
    {
     "data": {
      "text/plain": [
       "15288"
      ]
     },
     "execution_count": 34,
     "metadata": {},
     "output_type": "execute_result"
    }
   ],
   "source": [
    "emi2=loan_emi(1260000,10*12,0.08/12)\n",
    "emi2"
   ]
  },
  {
   "cell_type": "code",
   "execution_count": 39,
   "id": "f2300738",
   "metadata": {},
   "outputs": [
    {
     "data": {
      "text/plain": [
       "10230"
      ]
     },
     "execution_count": 39,
     "metadata": {},
     "output_type": "execute_result"
    }
   ],
   "source": [
    "cost_of_house=800000\n",
    "home_loan_duration=6*12\n",
    "home_loan_rate=0.07/12\n",
    "home_down_payment=.25*800000\n",
    "emi_house=loan_emi(amount=cost_of_house,\n",
    "                   duration=home_loan_duration,\n",
    "                  monthly_rate=home_loan_rate,\n",
    "                  down_payment=home_down_payment)\n",
    "emi_house"
   ]
  },
  {
   "cell_type": "code",
   "execution_count": 40,
   "id": "7c846dfe",
   "metadata": {},
   "outputs": [
    {
     "data": {
      "text/plain": [
       "5331"
      ]
     },
     "execution_count": 40,
     "metadata": {},
     "output_type": "execute_result"
    }
   ],
   "source": [
    "cost_of_car=60000\n",
    "car_loan_duration=1*12\n",
    "car_loan_rate=0.12/12\n",
    "emi_car=loan_emi(amount=cost_of_car,\n",
    "                   duration=car_loan_duration,\n",
    "                  monthly_rate=car_loan_rate,)\n",
    "emi_car"
   ]
  },
  {
   "cell_type": "markdown",
   "id": "ad312ae0",
   "metadata": {},
   "source": [
    "# Vacation Planning\n"
   ]
  },
  {
   "cell_type": "code",
   "execution_count": 55,
   "id": "974f483e",
   "metadata": {},
   "outputs": [],
   "source": [
    "def cost_of_trip(flight_cost,hotel_rate,car_rental_rate,duration,budget=0):\n",
    "    if duration>7:\n",
    "        amount=flight_cost+(hotel_rate*duration)+car_rental_rate*2\n",
    "    else:\n",
    "        amount=flight_cost+(hotel_rate*duration)+car_rental_rate\n",
    "    amount=math.ceil(amount)\n",
    "    \n",
    "    return amount\n"
   ]
  },
  {
   "cell_type": "code",
   "execution_count": 52,
   "id": "b2f02196",
   "metadata": {},
   "outputs": [
    {
     "name": "stdout",
     "output_type": "stream",
     "text": [
      "The trip cost for paris is: 540\n",
      "The trip cost for London is: 580\n",
      "The trip cost for Dubai is: 555\n",
      "The trip cost for Mumbai is: 590\n"
     ]
    }
   ],
   "source": [
    "paris=cost_of_trip(200,20,200,7)\n",
    "print('The trip cost for paris is:',paris)\n",
    "london=cost_of_trip(250,30,120,7)\n",
    "print('The trip cost for London is:',london)\n",
    "dubai=cost_of_trip(370,15,80,7)\n",
    "print('The trip cost for Dubai is:',dubai)\n",
    "mumbai=cost_of_trip(450,10,70,7)\n",
    "print('The trip cost for Mumbai is:',mumbai)\n"
   ]
  },
  {
   "cell_type": "code",
   "execution_count": 53,
   "id": "e56c462b",
   "metadata": {},
   "outputs": [
    {
     "name": "stdout",
     "output_type": "stream",
     "text": [
      "The trip cost for paris is: 480\n",
      "The trip cost for London is: 490\n",
      "The trip cost for Dubai is: 510\n",
      "The trip cost for Mumbai is: 560\n"
     ]
    }
   ],
   "source": [
    "#Duration 4days\n",
    "paris=cost_of_trip(200,20,200,4)\n",
    "print('The trip cost for paris is:',paris)\n",
    "london=cost_of_trip(250,30,120,4)\n",
    "print('The trip cost for London is:',london)\n",
    "dubai=cost_of_trip(370,15,80,4)\n",
    "print('The trip cost for Dubai is:',dubai)\n",
    "mumbai=cost_of_trip(450,10,70,4)\n",
    "print('The trip cost for Mumbai is:',mumbai)\n"
   ]
  },
  {
   "cell_type": "code",
   "execution_count": 54,
   "id": "9dc150d8",
   "metadata": {},
   "outputs": [
    {
     "name": "stdout",
     "output_type": "stream",
     "text": [
      "The trip cost for paris is: 800\n",
      "The trip cost for London is: 790\n",
      "The trip cost for Dubai is: 680\n",
      "The trip cost for Mumbai is: 690\n"
     ]
    }
   ],
   "source": [
    "#duration 10days\n",
    "paris=cost_of_trip(200,20,200,10)\n",
    "print('The trip cost for paris is:',paris)\n",
    "london=cost_of_trip(250,30,120,10)\n",
    "print('The trip cost for London is:',london)\n",
    "dubai=cost_of_trip(370,15,80,10)\n",
    "print('The trip cost for Dubai is:',dubai)\n",
    "mumbai=cost_of_trip(450,10,70,10)\n",
    "print('The trip cost for Mumbai is:',mumbai)"
   ]
  },
  {
   "cell_type": "code",
   "execution_count": 58,
   "id": "9c6f80bf",
   "metadata": {},
   "outputs": [],
   "source": [
    "def cost_of_trip(flight_cost,hotel_rate,car_rental_rate,budget):\n",
    "    max_day=0\n",
    "    for duration in range(1,100):\n",
    "        if duration<=7:\n",
    "            amount=flight_cost+(hotel_rate*duration)+car_rental_rate\n",
    "        else:\n",
    "            amount=flight_cost+(hotel_rate*duration)+car_rental_rate*2\n",
    "        if amount>budget:\n",
    "            break\n",
    "        max_day=duration\n",
    "    amount=math.ceil(amount)\n",
    "    \n",
    "    return max_day"
   ]
  },
  {
   "cell_type": "code",
   "execution_count": 59,
   "id": "13cfbc11",
   "metadata": {},
   "outputs": [
    {
     "name": "stdout",
     "output_type": "stream",
     "text": [
      "The duration for paris is: 20\n",
      "The duration for London is: 17\n",
      "The duration for Dubai is: 31\n",
      "The duration for Mumbai is: 41\n"
     ]
    }
   ],
   "source": [
    "paris=cost_of_trip(200,20,200,1000)\n",
    "print('The duration for paris is:',paris)\n",
    "london=cost_of_trip(250,30,120,1000)\n",
    "print('The duration for London is:',london)\n",
    "dubai=cost_of_trip(370,15,80,1000)\n",
    "print('The duration for Dubai is:',dubai)\n",
    "mumbai=cost_of_trip(450,10,70,1000)\n",
    "print('The duration for Mumbai is:',mumbai)"
   ]
  },
  {
   "cell_type": "code",
   "execution_count": 1,
   "id": "560854a0",
   "metadata": {},
   "outputs": [
    {
     "data": {
      "text/plain": [
       "'C:\\\\Users\\\\pgkvi\\\\OneDrive\\\\Desktop\\\\Python Practice\\\\DS course\\\\Jupyter files_practice'"
      ]
     },
     "execution_count": 1,
     "metadata": {},
     "output_type": "execute_result"
    }
   ],
   "source": [
    "import os\n",
    "os.getcwd()"
   ]
  },
  {
   "cell_type": "code",
   "execution_count": 3,
   "id": "a86c09d5",
   "metadata": {},
   "outputs": [
    {
     "data": {
      "text/plain": [
       "['.ipynb_checkpoints',\n",
       " '01-03-25_Piechart.ipynb',\n",
       " '01-06-25-scatter-sns.ipynb',\n",
       " '01-10-25-subplots.ipynb',\n",
       " '10-03-24.ipynb',\n",
       " '10-08-24_Comprehension.ipynb',\n",
       " '10-09-24-string.ipynb',\n",
       " '10-15-24-functions.ipynb',\n",
       " '10-21-24-Module.ipynb',\n",
       " '10-25-24-numpy.ipynb',\n",
       " '10-29-Numpy-reshaping.ipynb',\n",
       " '10-30-random-numbers.ipynb',\n",
       " '11-06-pandas-intro.ipynb',\n",
       " '11-09-24-GroupBy.ipynb',\n",
       " '11-10-24-pivotTable.ipynb',\n",
       " '11-12-24-excel.ipynb',\n",
       " '11-13-24-fwf-sas.ipynb',\n",
       " '11-14-24-methods.ipynb',\n",
       " '11-15-24-slicing.ipynb',\n",
       " '11-18-24-iloc-loc.ipynb',\n",
       " '11-21-24-reset-index.ipynb',\n",
       " '11-26-24-loc.ipynb',\n",
       " '11-26-24-missing-values.ipynb',\n",
       " '12-02-24-value-count.ipynb',\n",
       " '12-04-24-statistical-analysis.ipynb',\n",
       " '12-05-24-outliers.ipynb',\n",
       " '12-09-24-Groupby.ipynb',\n",
       " '12-10-24-Pivot_table.ipynb',\n",
       " '12-11-24-unpivot.ipynb',\n",
       " '12-12-24-Merge_joins.ipynb',\n",
       " '12-13-24-Merge.ipynb',\n",
       " '12-19-24_MatPlotlib.ipynb',\n",
       " '12-23-24-Line_plot.ipynb',\n",
       " '12-26-24-BoxPlot.ipynb',\n",
       " '12-27-24_Bargraphs.ipynb',\n",
       " '12-30-24-barplot.ipynb',\n",
       " 'Untitled.ipynb',\n",
       " 'Untitled1.ipynb',\n",
       " 'Untitled10.ipynb',\n",
       " 'Untitled11.ipynb',\n",
       " 'Untitled2.ipynb',\n",
       " 'Untitled3.ipynb',\n",
       " 'Untitled4.ipynb',\n",
       " 'Untitled5.ipynb',\n",
       " 'Untitled6.ipynb',\n",
       " 'Untitled7.ipynb',\n",
       " 'Untitled8.ipynb',\n",
       " 'Untitled9.ipynb']"
      ]
     },
     "execution_count": 3,
     "metadata": {},
     "output_type": "execute_result"
    }
   ],
   "source": [
    "os.listdir('.')"
   ]
  },
  {
   "cell_type": "code",
   "execution_count": 9,
   "id": "329d74ae",
   "metadata": {
    "scrolled": false
   },
   "outputs": [
    {
     "ename": "FileNotFoundError",
     "evalue": "[WinError 3] The system cannot find the path specified: '/Jupyter files_practice/Untitled'",
     "output_type": "error",
     "traceback": [
      "\u001b[1;31m---------------------------------------------------------------------------\u001b[0m",
      "\u001b[1;31mFileNotFoundError\u001b[0m                         Traceback (most recent call last)",
      "\u001b[1;32m~\\AppData\\Local\\Temp\\ipykernel_56504\\341946867.py\u001b[0m in \u001b[0;36m<module>\u001b[1;34m\u001b[0m\n\u001b[1;32m----> 1\u001b[1;33m \u001b[0mos\u001b[0m\u001b[1;33m.\u001b[0m\u001b[0mlistdir\u001b[0m\u001b[1;33m(\u001b[0m\u001b[1;34m'/Jupyter files_practice/Untitled'\u001b[0m\u001b[1;33m)\u001b[0m\u001b[1;33m\u001b[0m\u001b[1;33m\u001b[0m\u001b[0m\n\u001b[0m",
      "\u001b[1;31mFileNotFoundError\u001b[0m: [WinError 3] The system cannot find the path specified: '/Jupyter files_practice/Untitled'"
     ]
    }
   ],
   "source": [
    "os.listdir('/Jupyter files_practice/Untitled')"
   ]
  },
  {
   "cell_type": "code",
   "execution_count": 10,
   "id": "2c6ce597",
   "metadata": {},
   "outputs": [],
   "source": [
    "from urllib.request import urlretrieve"
   ]
  },
  {
   "cell_type": "code",
   "execution_count": 17,
   "id": "7e2c4cdc",
   "metadata": {},
   "outputs": [
    {
     "data": {
      "text/plain": [
       "('Amazon Reviews.csv', <http.client.HTTPMessage at 0x1e1df45df40>)"
      ]
     },
     "execution_count": 17,
     "metadata": {},
     "output_type": "execute_result"
    }
   ],
   "source": [
    "urlretrieve('https://doi.org/10.24432/C55C88'\n",
    "           ,'Amazon Reviews.csv')"
   ]
  },
  {
   "cell_type": "code",
   "execution_count": 13,
   "id": "8bfa2bc5",
   "metadata": {},
   "outputs": [
    {
     "name": "stdout",
     "output_type": "stream",
     "text": [
      "Download complete!\n"
     ]
    }
   ],
   "source": [
    "import urllib.request\n",
    "\n",
    "url = \"https://doi.org/10.24432/C55C88\" # Replace with the correct dataset URL\n",
    "filename = \"Amazon_Reviews.csv\"\n",
    "\n",
    "urllib.request.urlretrieve(url, filename)\n",
    "\n",
    "print(\"Download complete!\")"
   ]
  },
  {
   "cell_type": "code",
   "execution_count": 15,
   "id": "38992ea7",
   "metadata": {},
   "outputs": [],
   "source": [
    "import pandas as pd"
   ]
  },
  {
   "cell_type": "code",
   "execution_count": null,
   "id": "022c8164",
   "metadata": {},
   "outputs": [],
   "source": []
  },
  {
   "cell_type": "code",
   "execution_count": null,
   "id": "5467aff4",
   "metadata": {},
   "outputs": [],
   "source": []
  }
 ],
 "metadata": {
  "kernelspec": {
   "display_name": "Python 3 (ipykernel)",
   "language": "python",
   "name": "python3"
  },
  "language_info": {
   "codemirror_mode": {
    "name": "ipython",
    "version": 3
   },
   "file_extension": ".py",
   "mimetype": "text/x-python",
   "name": "python",
   "nbconvert_exporter": "python",
   "pygments_lexer": "ipython3",
   "version": "3.9.13"
  }
 },
 "nbformat": 4,
 "nbformat_minor": 5
}
