{
 "cells": [
  {
   "cell_type": "code",
   "execution_count": 2,
   "id": "336030ce",
   "metadata": {},
   "outputs": [],
   "source": [
    "import pandas as pd"
   ]
  },
  {
   "cell_type": "code",
   "execution_count": 3,
   "id": "5fee4162",
   "metadata": {},
   "outputs": [
    {
     "data": {
      "text/html": [
       "<div>\n",
       "<style scoped>\n",
       "    .dataframe tbody tr th:only-of-type {\n",
       "        vertical-align: middle;\n",
       "    }\n",
       "\n",
       "    .dataframe tbody tr th {\n",
       "        vertical-align: top;\n",
       "    }\n",
       "\n",
       "    .dataframe thead th {\n",
       "        text-align: right;\n",
       "    }\n",
       "</style>\n",
       "<table border=\"1\" class=\"dataframe\">\n",
       "  <thead>\n",
       "    <tr style=\"text-align: right;\">\n",
       "      <th></th>\n",
       "      <th>year</th>\n",
       "      <th>model</th>\n",
       "      <th>price</th>\n",
       "      <th>mileage</th>\n",
       "      <th>color</th>\n",
       "      <th>transmission</th>\n",
       "    </tr>\n",
       "  </thead>\n",
       "  <tbody>\n",
       "    <tr>\n",
       "      <th>0</th>\n",
       "      <td>2011</td>\n",
       "      <td>SEL</td>\n",
       "      <td>21992</td>\n",
       "      <td>7413</td>\n",
       "      <td>Yellow</td>\n",
       "      <td>AUTO</td>\n",
       "    </tr>\n",
       "    <tr>\n",
       "      <th>1</th>\n",
       "      <td>2011</td>\n",
       "      <td>SEL</td>\n",
       "      <td>20995</td>\n",
       "      <td>10926</td>\n",
       "      <td>Gray</td>\n",
       "      <td>AUTO</td>\n",
       "    </tr>\n",
       "    <tr>\n",
       "      <th>2</th>\n",
       "      <td>2011</td>\n",
       "      <td>SEL</td>\n",
       "      <td>19995</td>\n",
       "      <td>7351</td>\n",
       "      <td>Silver</td>\n",
       "      <td>AUTO</td>\n",
       "    </tr>\n",
       "    <tr>\n",
       "      <th>3</th>\n",
       "      <td>2011</td>\n",
       "      <td>SEL</td>\n",
       "      <td>17809</td>\n",
       "      <td>11613</td>\n",
       "      <td>Gray</td>\n",
       "      <td>AUTO</td>\n",
       "    </tr>\n",
       "    <tr>\n",
       "      <th>4</th>\n",
       "      <td>2012</td>\n",
       "      <td>SE</td>\n",
       "      <td>17500</td>\n",
       "      <td>8367</td>\n",
       "      <td>White</td>\n",
       "      <td>AUTO</td>\n",
       "    </tr>\n",
       "  </tbody>\n",
       "</table>\n",
       "</div>"
      ],
      "text/plain": [
       "   year model  price  mileage   color transmission\n",
       "0  2011   SEL  21992     7413  Yellow         AUTO\n",
       "1  2011   SEL  20995    10926    Gray         AUTO\n",
       "2  2011   SEL  19995     7351  Silver         AUTO\n",
       "3  2011   SEL  17809    11613    Gray         AUTO\n",
       "4  2012    SE  17500     8367   White         AUTO"
      ]
     },
     "execution_count": 3,
     "metadata": {},
     "output_type": "execute_result"
    }
   ],
   "source": [
    "cars=pd.read_csv(\"C:\\\\Users\\\\pgkvi\\\\OneDrive\\\\Desktop\\\\Python Practice\\\\DS course\\\\DataSet\\\\usedcars.csv\")\n",
    "cars.head()"
   ]
  },
  {
   "cell_type": "code",
   "execution_count": 4,
   "id": "c74a33f8",
   "metadata": {},
   "outputs": [
    {
     "data": {
      "text/plain": [
       "SE     78\n",
       "SES    48\n",
       "SEL    24\n",
       "Name: model, dtype: int64"
      ]
     },
     "execution_count": 4,
     "metadata": {},
     "output_type": "execute_result"
    }
   ],
   "source": [
    "cars.model.value_counts()"
   ]
  },
  {
   "cell_type": "code",
   "execution_count": 7,
   "id": "491c3f9d",
   "metadata": {},
   "outputs": [
    {
     "data": {
      "text/plain": [
       "Yellow     3\n",
       "Gray      16\n",
       "Silver    32\n",
       "White     16\n",
       "Blue      17\n",
       "Black     35\n",
       "Green      5\n",
       "Red       25\n",
       "Gold       1\n",
       "Name: color, dtype: int64"
      ]
     },
     "execution_count": 7,
     "metadata": {},
     "output_type": "execute_result"
    }
   ],
   "source": [
    "cars.color.value_counts(sort=False)#no order"
   ]
  },
  {
   "cell_type": "code",
   "execution_count": 6,
   "id": "2be97b54",
   "metadata": {},
   "outputs": [
    {
     "data": {
      "text/plain": [
       "MANUAL     22\n",
       "AUTO      128\n",
       "Name: transmission, dtype: int64"
      ]
     },
     "execution_count": 6,
     "metadata": {},
     "output_type": "execute_result"
    }
   ],
   "source": [
    "cars.transmission.value_counts(ascending=True)"
   ]
  },
  {
   "cell_type": "code",
   "execution_count": 8,
   "id": "76ac496a",
   "metadata": {},
   "outputs": [
    {
     "data": {
      "text/plain": [
       "SE     0.52\n",
       "SES    0.32\n",
       "SEL    0.16\n",
       "Name: model, dtype: float64"
      ]
     },
     "execution_count": 8,
     "metadata": {},
     "output_type": "execute_result"
    }
   ],
   "source": [
    "cars.model.value_counts(normalize=True) #get the proportion %"
   ]
  },
  {
   "cell_type": "code",
   "execution_count": 12,
   "id": "753ec8b5",
   "metadata": {},
   "outputs": [
    {
     "data": {
      "text/plain": [
       "(   gradyear gender     age  friends  basketball  football  soccer  softball  \\\n",
       " 0      2006      M     NaN        7           0         0       0         0   \n",
       " 1      2006      F  18.801        0           0         1       0         0   \n",
       " 2      2006      M  18.335       69           0         1       0         0   \n",
       " 3      2006      F  18.875        0           0         0       0         0   \n",
       " 4      2006    NaN  18.995       10           0         0       0         0   \n",
       " 5      2006      F     NaN      142           0         0       0         0   \n",
       " 6      2006      F  18.930       72           0         0       0         0   \n",
       " 7      2006      M  18.322       17           0         0       0         1   \n",
       " 8      2006      F  19.055       52           0         0       0         0   \n",
       " 9      2006      F  18.708       39           0         0       0         0   \n",
       " \n",
       "    volleyball  swimming  ...  blonde  mall  shopping  clothes  hollister  \\\n",
       " 0           0         0  ...       0     0         0        0          0   \n",
       " 1           0         0  ...       0     1         0        0          0   \n",
       " 2           0         0  ...       0     0         0        0          0   \n",
       " 3           0         0  ...       0     0         0        0          0   \n",
       " 4           0         0  ...       0     0         2        0          0   \n",
       " 5           0         0  ...       0     0         1        0          0   \n",
       " 6           0         0  ...       0     2         0        0          2   \n",
       " 7           0         0  ...       0     0         0        0          0   \n",
       " 8           0         0  ...       0     0         0        0          0   \n",
       " 9           0         0  ...       0     0         1        0          0   \n",
       " \n",
       "    abercrombie  die  death  drunk  drugs  \n",
       " 0            0    0      0      0      0  \n",
       " 1            0    0      0      0      0  \n",
       " 2            0    0      1      0      0  \n",
       " 3            0    0      0      0      0  \n",
       " 4            0    0      0      1      1  \n",
       " 5            0    0      0      1      0  \n",
       " 6            0    0      0      0      0  \n",
       " 7            0    0      0      0      0  \n",
       " 8            0    0      0      0      0  \n",
       " 9            0    0      0      0      0  \n",
       " \n",
       " [10 rows x 40 columns],\n",
       " (30000, 40))"
      ]
     },
     "execution_count": 12,
     "metadata": {},
     "output_type": "execute_result"
    }
   ],
   "source": [
    "snsdata=pd.read_csv(\"C:\\\\Users\\\\pgkvi\\\\OneDrive\\\\Desktop\\\\Python Practice\\\\DS course\\\\DataSet\\\\snsdata.csv\")\n",
    "snsdata.head(10),snsdata.shape"
   ]
  },
  {
   "cell_type": "code",
   "execution_count": 14,
   "id": "a72de242",
   "metadata": {},
   "outputs": [
    {
     "data": {
      "text/html": [
       "<div>\n",
       "<style scoped>\n",
       "    .dataframe tbody tr th:only-of-type {\n",
       "        vertical-align: middle;\n",
       "    }\n",
       "\n",
       "    .dataframe tbody tr th {\n",
       "        vertical-align: top;\n",
       "    }\n",
       "\n",
       "    .dataframe thead th {\n",
       "        text-align: right;\n",
       "    }\n",
       "</style>\n",
       "<table border=\"1\" class=\"dataframe\">\n",
       "  <thead>\n",
       "    <tr style=\"text-align: right;\">\n",
       "      <th></th>\n",
       "      <th>0</th>\n",
       "    </tr>\n",
       "  </thead>\n",
       "  <tbody>\n",
       "    <tr>\n",
       "      <th>gradyear</th>\n",
       "      <td>0</td>\n",
       "    </tr>\n",
       "    <tr>\n",
       "      <th>gender</th>\n",
       "      <td>2724</td>\n",
       "    </tr>\n",
       "    <tr>\n",
       "      <th>age</th>\n",
       "      <td>5087</td>\n",
       "    </tr>\n",
       "    <tr>\n",
       "      <th>friends</th>\n",
       "      <td>0</td>\n",
       "    </tr>\n",
       "    <tr>\n",
       "      <th>basketball</th>\n",
       "      <td>0</td>\n",
       "    </tr>\n",
       "    <tr>\n",
       "      <th>football</th>\n",
       "      <td>0</td>\n",
       "    </tr>\n",
       "    <tr>\n",
       "      <th>soccer</th>\n",
       "      <td>0</td>\n",
       "    </tr>\n",
       "    <tr>\n",
       "      <th>softball</th>\n",
       "      <td>0</td>\n",
       "    </tr>\n",
       "    <tr>\n",
       "      <th>volleyball</th>\n",
       "      <td>0</td>\n",
       "    </tr>\n",
       "    <tr>\n",
       "      <th>swimming</th>\n",
       "      <td>0</td>\n",
       "    </tr>\n",
       "    <tr>\n",
       "      <th>cheerleading</th>\n",
       "      <td>0</td>\n",
       "    </tr>\n",
       "    <tr>\n",
       "      <th>baseball</th>\n",
       "      <td>0</td>\n",
       "    </tr>\n",
       "    <tr>\n",
       "      <th>tennis</th>\n",
       "      <td>0</td>\n",
       "    </tr>\n",
       "    <tr>\n",
       "      <th>sports</th>\n",
       "      <td>0</td>\n",
       "    </tr>\n",
       "    <tr>\n",
       "      <th>cute</th>\n",
       "      <td>0</td>\n",
       "    </tr>\n",
       "    <tr>\n",
       "      <th>sex</th>\n",
       "      <td>0</td>\n",
       "    </tr>\n",
       "    <tr>\n",
       "      <th>sexy</th>\n",
       "      <td>0</td>\n",
       "    </tr>\n",
       "    <tr>\n",
       "      <th>hot</th>\n",
       "      <td>0</td>\n",
       "    </tr>\n",
       "    <tr>\n",
       "      <th>kissed</th>\n",
       "      <td>0</td>\n",
       "    </tr>\n",
       "    <tr>\n",
       "      <th>dance</th>\n",
       "      <td>0</td>\n",
       "    </tr>\n",
       "    <tr>\n",
       "      <th>band</th>\n",
       "      <td>0</td>\n",
       "    </tr>\n",
       "    <tr>\n",
       "      <th>marching</th>\n",
       "      <td>0</td>\n",
       "    </tr>\n",
       "    <tr>\n",
       "      <th>music</th>\n",
       "      <td>0</td>\n",
       "    </tr>\n",
       "    <tr>\n",
       "      <th>rock</th>\n",
       "      <td>0</td>\n",
       "    </tr>\n",
       "    <tr>\n",
       "      <th>god</th>\n",
       "      <td>0</td>\n",
       "    </tr>\n",
       "    <tr>\n",
       "      <th>church</th>\n",
       "      <td>0</td>\n",
       "    </tr>\n",
       "    <tr>\n",
       "      <th>jesus</th>\n",
       "      <td>0</td>\n",
       "    </tr>\n",
       "    <tr>\n",
       "      <th>bible</th>\n",
       "      <td>0</td>\n",
       "    </tr>\n",
       "    <tr>\n",
       "      <th>hair</th>\n",
       "      <td>0</td>\n",
       "    </tr>\n",
       "    <tr>\n",
       "      <th>dress</th>\n",
       "      <td>0</td>\n",
       "    </tr>\n",
       "    <tr>\n",
       "      <th>blonde</th>\n",
       "      <td>0</td>\n",
       "    </tr>\n",
       "    <tr>\n",
       "      <th>mall</th>\n",
       "      <td>0</td>\n",
       "    </tr>\n",
       "    <tr>\n",
       "      <th>shopping</th>\n",
       "      <td>0</td>\n",
       "    </tr>\n",
       "    <tr>\n",
       "      <th>clothes</th>\n",
       "      <td>0</td>\n",
       "    </tr>\n",
       "    <tr>\n",
       "      <th>hollister</th>\n",
       "      <td>0</td>\n",
       "    </tr>\n",
       "    <tr>\n",
       "      <th>abercrombie</th>\n",
       "      <td>0</td>\n",
       "    </tr>\n",
       "    <tr>\n",
       "      <th>die</th>\n",
       "      <td>0</td>\n",
       "    </tr>\n",
       "    <tr>\n",
       "      <th>death</th>\n",
       "      <td>0</td>\n",
       "    </tr>\n",
       "    <tr>\n",
       "      <th>drunk</th>\n",
       "      <td>0</td>\n",
       "    </tr>\n",
       "    <tr>\n",
       "      <th>drugs</th>\n",
       "      <td>0</td>\n",
       "    </tr>\n",
       "  </tbody>\n",
       "</table>\n",
       "</div>"
      ],
      "text/plain": [
       "                 0\n",
       "gradyear         0\n",
       "gender        2724\n",
       "age           5087\n",
       "friends          0\n",
       "basketball       0\n",
       "football         0\n",
       "soccer           0\n",
       "softball         0\n",
       "volleyball       0\n",
       "swimming         0\n",
       "cheerleading     0\n",
       "baseball         0\n",
       "tennis           0\n",
       "sports           0\n",
       "cute             0\n",
       "sex              0\n",
       "sexy             0\n",
       "hot              0\n",
       "kissed           0\n",
       "dance            0\n",
       "band             0\n",
       "marching         0\n",
       "music            0\n",
       "rock             0\n",
       "god              0\n",
       "church           0\n",
       "jesus            0\n",
       "bible            0\n",
       "hair             0\n",
       "dress            0\n",
       "blonde           0\n",
       "mall             0\n",
       "shopping         0\n",
       "clothes          0\n",
       "hollister        0\n",
       "abercrombie      0\n",
       "die              0\n",
       "death            0\n",
       "drunk            0\n",
       "drugs            0"
      ]
     },
     "execution_count": 14,
     "metadata": {},
     "output_type": "execute_result"
    }
   ],
   "source": [
    "snsdata.isna().sum().to_frame()"
   ]
  },
  {
   "cell_type": "code",
   "execution_count": 17,
   "id": "401acf7e",
   "metadata": {},
   "outputs": [
    {
     "data": {
      "text/plain": [
       "F      0.735133\n",
       "M      0.174067\n",
       "NaN    0.090800\n",
       "Name: gender, dtype: float64"
      ]
     },
     "execution_count": 17,
     "metadata": {},
     "output_type": "execute_result"
    }
   ],
   "source": [
    "snsdata.gender.value_counts(dropna=False,normalize=True)"
   ]
  },
  {
   "cell_type": "code",
   "execution_count": 18,
   "id": "4ff7fd81",
   "metadata": {},
   "outputs": [
    {
     "data": {
      "text/html": [
       "<div>\n",
       "<style scoped>\n",
       "    .dataframe tbody tr th:only-of-type {\n",
       "        vertical-align: middle;\n",
       "    }\n",
       "\n",
       "    .dataframe tbody tr th {\n",
       "        vertical-align: top;\n",
       "    }\n",
       "\n",
       "    .dataframe thead th {\n",
       "        text-align: right;\n",
       "    }\n",
       "</style>\n",
       "<table border=\"1\" class=\"dataframe\">\n",
       "  <thead>\n",
       "    <tr style=\"text-align: right;\">\n",
       "      <th></th>\n",
       "      <th>age</th>\n",
       "      <th>gender</th>\n",
       "      <th>bmi</th>\n",
       "      <th>children</th>\n",
       "      <th>smoker</th>\n",
       "      <th>region</th>\n",
       "      <th>charges</th>\n",
       "    </tr>\n",
       "  </thead>\n",
       "  <tbody>\n",
       "    <tr>\n",
       "      <th>0</th>\n",
       "      <td>19</td>\n",
       "      <td>female</td>\n",
       "      <td>27.900</td>\n",
       "      <td>0</td>\n",
       "      <td>yes</td>\n",
       "      <td>southwest</td>\n",
       "      <td>16884.92400</td>\n",
       "    </tr>\n",
       "    <tr>\n",
       "      <th>1</th>\n",
       "      <td>18</td>\n",
       "      <td>male</td>\n",
       "      <td>33.770</td>\n",
       "      <td>1</td>\n",
       "      <td>no</td>\n",
       "      <td>southeast</td>\n",
       "      <td>1725.55230</td>\n",
       "    </tr>\n",
       "    <tr>\n",
       "      <th>2</th>\n",
       "      <td>28</td>\n",
       "      <td>male</td>\n",
       "      <td>33.000</td>\n",
       "      <td>3</td>\n",
       "      <td>no</td>\n",
       "      <td>southeast</td>\n",
       "      <td>4449.46200</td>\n",
       "    </tr>\n",
       "    <tr>\n",
       "      <th>3</th>\n",
       "      <td>33</td>\n",
       "      <td>male</td>\n",
       "      <td>22.705</td>\n",
       "      <td>0</td>\n",
       "      <td>no</td>\n",
       "      <td>northwest</td>\n",
       "      <td>21984.47061</td>\n",
       "    </tr>\n",
       "    <tr>\n",
       "      <th>4</th>\n",
       "      <td>32</td>\n",
       "      <td>male</td>\n",
       "      <td>28.880</td>\n",
       "      <td>0</td>\n",
       "      <td>no</td>\n",
       "      <td>northwest</td>\n",
       "      <td>3866.85520</td>\n",
       "    </tr>\n",
       "  </tbody>\n",
       "</table>\n",
       "</div>"
      ],
      "text/plain": [
       "   age  gender     bmi  children smoker     region      charges\n",
       "0   19  female  27.900         0    yes  southwest  16884.92400\n",
       "1   18    male  33.770         1     no  southeast   1725.55230\n",
       "2   28    male  33.000         3     no  southeast   4449.46200\n",
       "3   33    male  22.705         0     no  northwest  21984.47061\n",
       "4   32    male  28.880         0     no  northwest   3866.85520"
      ]
     },
     "execution_count": 18,
     "metadata": {},
     "output_type": "execute_result"
    }
   ],
   "source": [
    "insurance=pd.read_csv(\"C:\\\\Users\\\\pgkvi\\\\OneDrive\\\\Desktop\\\\Python Practice\\\\DS course\\\\DataSet\\\\insurance.csv\")\n",
    "insurance.head()"
   ]
  },
  {
   "cell_type": "code",
   "execution_count": 19,
   "id": "3bb3e955",
   "metadata": {},
   "outputs": [
    {
     "data": {
      "text/plain": [
       "southeast    364\n",
       "southwest    325\n",
       "northwest    325\n",
       "northeast    324\n",
       "Name: region, dtype: int64"
      ]
     },
     "execution_count": 19,
     "metadata": {},
     "output_type": "execute_result"
    }
   ],
   "source": [
    "insurance.region.value_counts()"
   ]
  },
  {
   "cell_type": "code",
   "execution_count": 20,
   "id": "27a0a3f5",
   "metadata": {},
   "outputs": [
    {
     "data": {
      "text/plain": [
       "age         0\n",
       "gender      0\n",
       "bmi         0\n",
       "children    0\n",
       "smoker      0\n",
       "region      0\n",
       "charges     0\n",
       "dtype: int64"
      ]
     },
     "execution_count": 20,
     "metadata": {},
     "output_type": "execute_result"
    }
   ],
   "source": [
    "insurance.isna().sum()"
   ]
  },
  {
   "cell_type": "code",
   "execution_count": 21,
   "id": "3a4e1b68",
   "metadata": {},
   "outputs": [
    {
     "data": {
      "text/plain": [
       "no     1064\n",
       "yes     274\n",
       "Name: smoker, dtype: int64"
      ]
     },
     "execution_count": 21,
     "metadata": {},
     "output_type": "execute_result"
    }
   ],
   "source": [
    "insurance.smoker.value_counts()"
   ]
  },
  {
   "cell_type": "code",
   "execution_count": 22,
   "id": "a5f75315",
   "metadata": {},
   "outputs": [
    {
     "data": {
      "text/plain": [
       "no     0.795217\n",
       "yes    0.204783\n",
       "Name: smoker, dtype: float64"
      ]
     },
     "execution_count": 22,
     "metadata": {},
     "output_type": "execute_result"
    }
   ],
   "source": [
    "insurance.smoker.value_counts(normalize=True)"
   ]
  },
  {
   "cell_type": "code",
   "execution_count": 23,
   "id": "2338c150",
   "metadata": {},
   "outputs": [
    {
     "data": {
      "text/html": [
       "<div>\n",
       "<style scoped>\n",
       "    .dataframe tbody tr th:only-of-type {\n",
       "        vertical-align: middle;\n",
       "    }\n",
       "\n",
       "    .dataframe tbody tr th {\n",
       "        vertical-align: top;\n",
       "    }\n",
       "\n",
       "    .dataframe thead th {\n",
       "        text-align: right;\n",
       "    }\n",
       "</style>\n",
       "<table border=\"1\" class=\"dataframe\">\n",
       "  <thead>\n",
       "    <tr style=\"text-align: right;\">\n",
       "      <th></th>\n",
       "      <th>year</th>\n",
       "      <th>model</th>\n",
       "      <th>price</th>\n",
       "      <th>mileage</th>\n",
       "      <th>color</th>\n",
       "      <th>transmission</th>\n",
       "    </tr>\n",
       "  </thead>\n",
       "  <tbody>\n",
       "    <tr>\n",
       "      <th>0</th>\n",
       "      <td>2011</td>\n",
       "      <td>SEL</td>\n",
       "      <td>21992</td>\n",
       "      <td>7413</td>\n",
       "      <td>Yellow</td>\n",
       "      <td>AUTO</td>\n",
       "    </tr>\n",
       "    <tr>\n",
       "      <th>1</th>\n",
       "      <td>2011</td>\n",
       "      <td>SEL</td>\n",
       "      <td>20995</td>\n",
       "      <td>10926</td>\n",
       "      <td>Gray</td>\n",
       "      <td>AUTO</td>\n",
       "    </tr>\n",
       "    <tr>\n",
       "      <th>2</th>\n",
       "      <td>2011</td>\n",
       "      <td>SEL</td>\n",
       "      <td>19995</td>\n",
       "      <td>7351</td>\n",
       "      <td>Silver</td>\n",
       "      <td>AUTO</td>\n",
       "    </tr>\n",
       "    <tr>\n",
       "      <th>3</th>\n",
       "      <td>2011</td>\n",
       "      <td>SEL</td>\n",
       "      <td>17809</td>\n",
       "      <td>11613</td>\n",
       "      <td>Gray</td>\n",
       "      <td>AUTO</td>\n",
       "    </tr>\n",
       "    <tr>\n",
       "      <th>4</th>\n",
       "      <td>2012</td>\n",
       "      <td>SE</td>\n",
       "      <td>17500</td>\n",
       "      <td>8367</td>\n",
       "      <td>White</td>\n",
       "      <td>AUTO</td>\n",
       "    </tr>\n",
       "  </tbody>\n",
       "</table>\n",
       "</div>"
      ],
      "text/plain": [
       "   year model  price  mileage   color transmission\n",
       "0  2011   SEL  21992     7413  Yellow         AUTO\n",
       "1  2011   SEL  20995    10926    Gray         AUTO\n",
       "2  2011   SEL  19995     7351  Silver         AUTO\n",
       "3  2011   SEL  17809    11613    Gray         AUTO\n",
       "4  2012    SE  17500     8367   White         AUTO"
      ]
     },
     "execution_count": 23,
     "metadata": {},
     "output_type": "execute_result"
    }
   ],
   "source": [
    "cars=pd.read_csv(\"C:\\\\Users\\\\pgkvi\\\\OneDrive\\\\Desktop\\\\Python Practice\\\\DS course\\\\DataSet\\\\usedcars.csv\")\n",
    "cars.head()"
   ]
  },
  {
   "cell_type": "code",
   "execution_count": 24,
   "id": "c6c63eb0",
   "metadata": {},
   "outputs": [
    {
     "data": {
      "text/plain": [
       "(3800, 21992, 12961.933333333332)"
      ]
     },
     "execution_count": 24,
     "metadata": {},
     "output_type": "execute_result"
    }
   ],
   "source": [
    "cars.price.min(),cars.price.max(),cars.price.mean()"
   ]
  },
  {
   "cell_type": "code",
   "execution_count": 25,
   "id": "8182a21f",
   "metadata": {},
   "outputs": [],
   "source": [
    "import numpy as np"
   ]
  },
  {
   "cell_type": "code",
   "execution_count": 26,
   "id": "a180373c",
   "metadata": {},
   "outputs": [
    {
     "data": {
      "text/plain": [
       "(3800, 21992, 12961.933333333332)"
      ]
     },
     "execution_count": 26,
     "metadata": {},
     "output_type": "execute_result"
    }
   ],
   "source": [
    "np.min(cars.price),np.max(cars.price),np.mean(cars.price)"
   ]
  },
  {
   "cell_type": "code",
   "execution_count": 28,
   "id": "57cc6d0e",
   "metadata": {},
   "outputs": [
    {
     "data": {
      "text/plain": [
       "(13591.5, 13591.5)"
      ]
     },
     "execution_count": 28,
     "metadata": {},
     "output_type": "execute_result"
    }
   ],
   "source": [
    "cars.price.median(),np.median(cars.price)"
   ]
  },
  {
   "cell_type": "code",
   "execution_count": null,
   "id": "f39d057a",
   "metadata": {},
   "outputs": [],
   "source": []
  }
 ],
 "metadata": {
  "kernelspec": {
   "display_name": "Python 3 (ipykernel)",
   "language": "python",
   "name": "python3"
  },
  "language_info": {
   "codemirror_mode": {
    "name": "ipython",
    "version": 3
   },
   "file_extension": ".py",
   "mimetype": "text/x-python",
   "name": "python",
   "nbconvert_exporter": "python",
   "pygments_lexer": "ipython3",
   "version": "3.9.13"
  }
 },
 "nbformat": 4,
 "nbformat_minor": 5
}
