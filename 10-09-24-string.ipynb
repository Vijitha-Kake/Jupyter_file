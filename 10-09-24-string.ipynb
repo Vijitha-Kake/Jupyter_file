{
 "cells": [
  {
   "cell_type": "code",
   "execution_count": 1,
   "id": "d5d055f9",
   "metadata": {},
   "outputs": [
    {
     "name": "stdout",
     "output_type": "stream",
     "text": [
      "WELCOME TO PYTHON TRAINING\n",
      "welcome to python training\n",
      "Welcome To Python Training\n",
      "Welcome to python training\n",
      "WeLCoMe tO PYthOn tRAIniNG\n"
     ]
    }
   ],
   "source": [
    "s=\"wElcOmE To pyTHoN TraiNIng\"\n",
    "print(s.upper())\n",
    "print(s.lower())\n",
    "print(s.title())\n",
    "print(s.capitalize())\n",
    "print(s.swapcase())\n",
    "print(s.)"
   ]
  },
  {
   "cell_type": "code",
   "execution_count": 3,
   "id": "790b2beb",
   "metadata": {},
   "outputs": [
    {
     "data": {
      "text/plain": [
       "(True, False, False)"
      ]
     },
     "execution_count": 3,
     "metadata": {},
     "output_type": "execute_result"
    }
   ],
   "source": [
    "x='HELLO'\n",
    "x.isupper(), x.islower(), x.istitle()"
   ]
  },
  {
   "cell_type": "code",
   "execution_count": 4,
   "id": "b84851ff",
   "metadata": {},
   "outputs": [
    {
     "data": {
      "text/plain": [
       "(False, True, False)"
      ]
     },
     "execution_count": 4,
     "metadata": {},
     "output_type": "execute_result"
    }
   ],
   "source": [
    "x='hello'\n",
    "x.isupper(), x.islower(), x.istitle()"
   ]
  },
  {
   "cell_type": "code",
   "execution_count": 5,
   "id": "c3796051",
   "metadata": {},
   "outputs": [
    {
     "data": {
      "text/plain": [
       "(False, False, True)"
      ]
     },
     "execution_count": 5,
     "metadata": {},
     "output_type": "execute_result"
    }
   ],
   "source": [
    "x='Hello'\n",
    "x.isupper(), x.islower(), x.istitle()"
   ]
  },
  {
   "cell_type": "code",
   "execution_count": 8,
   "id": "cbae7bb5",
   "metadata": {},
   "outputs": [
    {
     "data": {
      "text/plain": [
       "(False, True, True, False)"
      ]
     },
     "execution_count": 8,
     "metadata": {},
     "output_type": "execute_result"
    }
   ],
   "source": [
    "x.startswith('h'), x.startswith('H'),x.endswith('o'),x.endswith('O')"
   ]
  },
  {
   "cell_type": "code",
   "execution_count": 9,
   "id": "3d64d0ba",
   "metadata": {},
   "outputs": [
    {
     "name": "stdout",
     "output_type": "stream",
     "text": [
      "['wElcOmE', 'To', 'pyTHoN', 'TraiNIng']\n"
     ]
    }
   ],
   "source": [
    "s=\"wElcOmE To pyTHoN TraiNIng\"\n",
    "word = s.split(' ')\n",
    "print(word)"
   ]
  },
  {
   "cell_type": "code",
   "execution_count": 10,
   "id": "a041ebbe",
   "metadata": {},
   "outputs": [
    {
     "data": {
      "text/plain": [
       "['wElcOmE', 'To', 'pyTHoN TraiNIng']"
      ]
     },
     "execution_count": 10,
     "metadata": {},
     "output_type": "execute_result"
    }
   ],
   "source": [
    "s.split(sep=' ',maxsplit=2)\n"
   ]
  },
  {
   "cell_type": "code",
   "execution_count": 12,
   "id": "534ae337",
   "metadata": {},
   "outputs": [
    {
     "data": {
      "text/plain": [
       "['wElcOmE To pyTHoN', 'TraiNIng']"
      ]
     },
     "execution_count": 12,
     "metadata": {},
     "output_type": "execute_result"
    }
   ],
   "source": [
    "s.rsplit(sep=' ',maxsplit=1)"
   ]
  },
  {
   "cell_type": "code",
   "execution_count": 14,
   "id": "f2000685",
   "metadata": {},
   "outputs": [
    {
     "name": "stdout",
     "output_type": "stream",
     "text": [
      "Hello vijitha. \n",
      "wElcOmE To pyTHoN TraiNIng\n"
     ]
    }
   ],
   "source": [
    "s=\"Hello vijitha. \\nwElcOmE To pyTHoN TraiNIng\"\n",
    "print(s)"
   ]
  },
  {
   "cell_type": "code",
   "execution_count": 15,
   "id": "a6f9cc3f",
   "metadata": {},
   "outputs": [
    {
     "data": {
      "text/plain": [
       "['Hello vijitha. ', 'wElcOmE To pyTHoN TraiNIng']"
      ]
     },
     "execution_count": 15,
     "metadata": {},
     "output_type": "execute_result"
    }
   ],
   "source": [
    "s.split('\\n')"
   ]
  },
  {
   "cell_type": "code",
   "execution_count": 16,
   "id": "b65de2a3",
   "metadata": {},
   "outputs": [
    {
     "data": {
      "text/plain": [
       "['Hello vijitha. ', 'wElcOmE To pyTHoN TraiNIng']"
      ]
     },
     "execution_count": 16,
     "metadata": {},
     "output_type": "execute_result"
    }
   ],
   "source": [
    "s.splitlines()"
   ]
  },
  {
   "cell_type": "code",
   "execution_count": 17,
   "id": "27feb447",
   "metadata": {},
   "outputs": [
    {
     "data": {
      "text/plain": [
       "('python training', 'python training******', '***python training')"
      ]
     },
     "execution_count": 17,
     "metadata": {},
     "output_type": "execute_result"
    }
   ],
   "source": [
    "s='***python training******'\n",
    "s.strip('*'), s.lstrip('*'), s.rstrip('*')"
   ]
  },
  {
   "cell_type": "code",
   "execution_count": 21,
   "id": "1bb5c3dd",
   "metadata": {},
   "outputs": [
    {
     "name": "stdout",
     "output_type": "stream",
     "text": [
      "['Read', 'Eat', 'Run', 'Write'] ['READ', 'EAT', 'RUN', 'WRITE']\n"
     ]
    }
   ],
   "source": [
    "words = ['reads','eats','runs','writes']\n",
    "a=[w.title().rstrip('s') for w in words]\n",
    "b=[w.upper().rstrip('S') for w in words]\n",
    "print(a,b)"
   ]
  },
  {
   "cell_type": "code",
   "execution_count": 22,
   "id": "67619e90",
   "metadata": {},
   "outputs": [
    {
     "data": {
      "text/plain": [
       "('vijitha', 'Ms.vijitha')"
      ]
     },
     "execution_count": 22,
     "metadata": {},
     "output_type": "execute_result"
    }
   ],
   "source": [
    "s='Ms.Ms.vijitha'\n",
    "s.lstrip('Ms.'),s.removeprefix('Ms.')"
   ]
  },
  {
   "cell_type": "code",
   "execution_count": 24,
   "id": "048c6ba0",
   "metadata": {},
   "outputs": [
    {
     "data": {
      "text/plain": [
       "(['wElcOmE', 'To', 'pyTHoN', 'TraiNIng'], list)"
      ]
     },
     "execution_count": 24,
     "metadata": {},
     "output_type": "execute_result"
    }
   ],
   "source": [
    "s=\"wElcOmE To pyTHoN TraiNIng\"\n",
    "word = s.split(' ')\n",
    "word, type(word)"
   ]
  },
  {
   "cell_type": "code",
   "execution_count": 25,
   "id": "c51e42bb",
   "metadata": {},
   "outputs": [
    {
     "data": {
      "text/plain": [
       "'wElcOmE To pyTHoN TraiNIng'"
      ]
     },
     "execution_count": 25,
     "metadata": {},
     "output_type": "execute_result"
    }
   ],
   "source": [
    "join_str = ' '\n",
    "join_str.join(word)"
   ]
  },
  {
   "cell_type": "code",
   "execution_count": 26,
   "id": "0d49bc40",
   "metadata": {},
   "outputs": [
    {
     "data": {
      "text/plain": [
       "(True, True, False)"
      ]
     },
     "execution_count": 26,
     "metadata": {},
     "output_type": "execute_result"
    }
   ],
   "source": [
    "s='abd'\n",
    "s.isalnum(), s.isalpha(), s.isdigit()"
   ]
  },
  {
   "cell_type": "code",
   "execution_count": 28,
   "id": "32dd0695",
   "metadata": {},
   "outputs": [
    {
     "data": {
      "text/plain": [
       "(True, False)"
      ]
     },
     "execution_count": 28,
     "metadata": {},
     "output_type": "execute_result"
    }
   ],
   "source": [
    "name = 'Hello Vijitha'\n",
    "name[5].isspace(), name[6].isspace()"
   ]
  },
  {
   "cell_type": "code",
   "execution_count": 30,
   "id": "49c1fe51",
   "metadata": {},
   "outputs": [
    {
     "data": {
      "text/plain": [
       "(['277654'], list)"
      ]
     },
     "execution_count": 30,
     "metadata": {},
     "output_type": "execute_result"
    }
   ],
   "source": [
    "msg = \"The OPT for the online transcation is 277654 plaese don't share with anyone\"\n",
    "otp = [i for i in msg.split() if i.isdigit()]\n",
    "otp, type(otp)"
   ]
  },
  {
   "cell_type": "code",
   "execution_count": 37,
   "id": "e65b5dd7",
   "metadata": {},
   "outputs": [
    {
     "data": {
      "text/plain": [
       "'We at Axis Bank want to make your enjoy even more special!'"
      ]
     },
     "execution_count": 37,
     "metadata": {},
     "output_type": "execute_result"
    }
   ],
   "source": [
    "s='We at Axis Bank want to make your birthday even more special!'\n",
    "s.count('birthday')\n",
    "s.replace('birthday', 'enjoy')"
   ]
  },
  {
   "cell_type": "code",
   "execution_count": 32,
   "id": "8e752775",
   "metadata": {},
   "outputs": [
    {
     "data": {
      "text/plain": [
       "34"
      ]
     },
     "execution_count": 32,
     "metadata": {},
     "output_type": "execute_result"
    }
   ],
   "source": [
    "s.index('birthday')"
   ]
  },
  {
   "cell_type": "code",
   "execution_count": 33,
   "id": "6d65475d",
   "metadata": {},
   "outputs": [
    {
     "data": {
      "text/plain": [
       "34"
      ]
     },
     "execution_count": 33,
     "metadata": {},
     "output_type": "execute_result"
    }
   ],
   "source": [
    "s.find('birthday')"
   ]
  },
  {
   "cell_type": "code",
   "execution_count": 34,
   "id": "b30105d2",
   "metadata": {},
   "outputs": [
    {
     "ename": "ValueError",
     "evalue": "substring not found",
     "output_type": "error",
     "traceback": [
      "\u001b[1;31m---------------------------------------------------------------------------\u001b[0m",
      "\u001b[1;31mValueError\u001b[0m                                Traceback (most recent call last)",
      "\u001b[1;32m~\\AppData\\Local\\Temp\\ipykernel_18872\\394227839.py\u001b[0m in \u001b[0;36m<module>\u001b[1;34m\u001b[0m\n\u001b[1;32m----> 1\u001b[1;33m \u001b[0ms\u001b[0m\u001b[1;33m.\u001b[0m\u001b[0mindex\u001b[0m\u001b[1;33m(\u001b[0m\u001b[1;34m'xyz'\u001b[0m\u001b[1;33m)\u001b[0m\u001b[1;33m\u001b[0m\u001b[1;33m\u001b[0m\u001b[0m\n\u001b[0m",
      "\u001b[1;31mValueError\u001b[0m: substring not found"
     ]
    }
   ],
   "source": [
    "s.index('xyz')"
   ]
  },
  {
   "cell_type": "code",
   "execution_count": 35,
   "id": "3886973e",
   "metadata": {},
   "outputs": [
    {
     "data": {
      "text/plain": [
       "-1"
      ]
     },
     "execution_count": 35,
     "metadata": {},
     "output_type": "execute_result"
    }
   ],
   "source": [
    "s.find('xyz')"
   ]
  },
  {
   "cell_type": "code",
   "execution_count": 36,
   "id": "4f4dddfa",
   "metadata": {},
   "outputs": [
    {
     "data": {
      "text/plain": [
       "('**Hello***', 'Hello*****', '*****Hello')"
      ]
     },
     "execution_count": 36,
     "metadata": {},
     "output_type": "execute_result"
    }
   ],
   "source": [
    "s = 'Hello'\n",
    "s.center(10, '*'), s.ljust(10, '*'), s.rjust(10, '*')"
   ]
  },
  {
   "cell_type": "code",
   "execution_count": 38,
   "id": "ec6ef50d",
   "metadata": {},
   "outputs": [
    {
     "data": {
      "text/plain": [
       "'001234'"
      ]
     },
     "execution_count": 38,
     "metadata": {},
     "output_type": "execute_result"
    }
   ],
   "source": [
    "s='1234'\n",
    "s.zfill(6)"
   ]
  },
  {
   "cell_type": "code",
   "execution_count": 39,
   "id": "084c27c2",
   "metadata": {},
   "outputs": [
    {
     "data": {
      "text/plain": [
       "'python training******'"
      ]
     },
     "execution_count": 39,
     "metadata": {},
     "output_type": "execute_result"
    }
   ],
   "source": [
    "s='    python training******'\n",
    "s.strip(' ')"
   ]
  },
  {
   "cell_type": "code",
   "execution_count": null,
   "id": "52dd71b7",
   "metadata": {},
   "outputs": [],
   "source": []
  }
 ],
 "metadata": {
  "kernelspec": {
   "display_name": "Python 3 (ipykernel)",
   "language": "python",
   "name": "python3"
  },
  "language_info": {
   "codemirror_mode": {
    "name": "ipython",
    "version": 3
   },
   "file_extension": ".py",
   "mimetype": "text/x-python",
   "name": "python",
   "nbconvert_exporter": "python",
   "pygments_lexer": "ipython3",
   "version": "3.9.13"
  }
 },
 "nbformat": 4,
 "nbformat_minor": 5
}
