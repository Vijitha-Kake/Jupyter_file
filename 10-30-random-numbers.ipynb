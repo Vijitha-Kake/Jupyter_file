{
 "cells": [
  {
   "cell_type": "markdown",
   "id": "4b73a15a",
   "metadata": {},
   "source": [
    "## Random Numbers"
   ]
  },
  {
   "cell_type": "code",
   "execution_count": 1,
   "id": "3eca288a",
   "metadata": {},
   "outputs": [],
   "source": [
    "import numpy as np"
   ]
  },
  {
   "cell_type": "code",
   "execution_count": 6,
   "id": "aa254872",
   "metadata": {},
   "outputs": [
    {
     "data": {
      "text/plain": [
       "array([0.84110833, 0.02234378, 0.03862892, 0.4220899 , 0.55843372,\n",
       "       0.29830858, 0.09220828, 0.71928953, 0.03438944])"
      ]
     },
     "execution_count": 6,
     "metadata": {},
     "output_type": "execute_result"
    }
   ],
   "source": [
    "np.random.random_sample(9)"
   ]
  },
  {
   "cell_type": "code",
   "execution_count": 17,
   "id": "f128a520",
   "metadata": {},
   "outputs": [
    {
     "data": {
      "text/plain": [
       "array([[0.04338245, 0.80151684],\n",
       "       [0.00326234, 0.65812796],\n",
       "       [0.77120744, 0.00989991]])"
      ]
     },
     "execution_count": 17,
     "metadata": {},
     "output_type": "execute_result"
    }
   ],
   "source": [
    "np.random.random_sample((3,2))"
   ]
  },
  {
   "cell_type": "code",
   "execution_count": 11,
   "id": "f3d9d8b0",
   "metadata": {},
   "outputs": [
    {
     "data": {
      "text/plain": [
       "array([[96, 81, 79, 90, 79],\n",
       "       [95, 85, 87, 94, 93],\n",
       "       [96, 86, 86, 80, 76]])"
      ]
     },
     "execution_count": 11,
     "metadata": {},
     "output_type": "execute_result"
    }
   ],
   "source": [
    "#98 will not include\n",
    "marks = np.random.randint(76,98,(3,5))\n",
    "marks"
   ]
  },
  {
   "cell_type": "code",
   "execution_count": 14,
   "id": "bed1d7a8",
   "metadata": {},
   "outputs": [
    {
     "data": {
      "text/plain": [
       "array([[ 6,  6,  4,  4,  2],\n",
       "       [ 6, 10,  6, 11, 10],\n",
       "       [ 5,  7, 12, 14, 14]])"
      ]
     },
     "execution_count": 14,
     "metadata": {},
     "output_type": "execute_result"
    }
   ],
   "source": [
    "m1=np.random.randint(1,15,(3,5))\n",
    "m1"
   ]
  },
  {
   "cell_type": "code",
   "execution_count": 15,
   "id": "f49efe40",
   "metadata": {},
   "outputs": [
    {
     "data": {
      "text/plain": [
       "array([[17, 16, 12, 11],\n",
       "       [14, 13, 10, 14],\n",
       "       [16, 18, 17, 12],\n",
       "       [16, 18, 11, 11],\n",
       "       [17, 14, 14, 13]])"
      ]
     },
     "execution_count": 15,
     "metadata": {},
     "output_type": "execute_result"
    }
   ],
   "source": [
    "m2=np.random.randint(10,20,(5,4))\n",
    "m2"
   ]
  },
  {
   "cell_type": "code",
   "execution_count": 16,
   "id": "b9541c4f",
   "metadata": {},
   "outputs": [
    {
     "data": {
      "text/plain": [
       "array([[348, 346, 272, 268],\n",
       "       [684, 672, 535, 529],\n",
       "       [837, 835, 684, 633]])"
      ]
     },
     "execution_count": 16,
     "metadata": {},
     "output_type": "execute_result"
    }
   ],
   "source": [
    "m1.dot(m2)"
   ]
  },
  {
   "cell_type": "code",
   "execution_count": 28,
   "id": "2b8e2efc",
   "metadata": {},
   "outputs": [
    {
     "data": {
      "text/plain": [
       "array([[5.86522401, 6.40312137, 5.12472778, 5.97686747],\n",
       "       [8.19478045, 8.67493764, 8.23675644, 6.40034287],\n",
       "       [7.13375985, 7.75681941, 8.36487944, 6.7556328 ]])"
      ]
     },
     "execution_count": 28,
     "metadata": {},
     "output_type": "execute_result"
    }
   ],
   "source": [
    "5*np.random.random_sample((3,4))+5"
   ]
  },
  {
   "cell_type": "code",
   "execution_count": 34,
   "id": "66413da0",
   "metadata": {},
   "outputs": [
    {
     "data": {
      "text/plain": [
       "array([19, 14, 10, 11, 19, 10, 11, 18, 19, 10])"
      ]
     },
     "execution_count": 34,
     "metadata": {},
     "output_type": "execute_result"
    }
   ],
   "source": [
    "np.random.seed(10)\n",
    "np.random.randint(10,20,10)\n",
    "# to get the same number always we use seed"
   ]
  },
  {
   "cell_type": "code",
   "execution_count": 36,
   "id": "503e93e8",
   "metadata": {},
   "outputs": [
    {
     "data": {
      "text/plain": [
       "array([15, 10, 13, 13, 17, 19, 13, 15, 12, 14])"
      ]
     },
     "execution_count": 36,
     "metadata": {},
     "output_type": "execute_result"
    }
   ],
   "source": [
    "np.random.seed(0)\n",
    "np.random.randint(10,20,10)"
   ]
  },
  {
   "cell_type": "code",
   "execution_count": 37,
   "id": "1b1082fe",
   "metadata": {},
   "outputs": [
    {
     "data": {
      "text/plain": [
       "array([[24,  7, 25, 25, 13],\n",
       "       [ 2, 39, 40, 24, 47]])"
      ]
     },
     "execution_count": 37,
     "metadata": {},
     "output_type": "execute_result"
    }
   ],
   "source": [
    "x=np.random.randint(1,50,(2,5))\n",
    "x"
   ]
  },
  {
   "cell_type": "code",
   "execution_count": 42,
   "id": "3b5a6817",
   "metadata": {},
   "outputs": [
    {
     "data": {
      "text/plain": [
       "array([[[ 1,  2,  3,  4],\n",
       "        [ 5,  6,  7,  8],\n",
       "        [ 9, 10, 11, 12],\n",
       "        [13, 14, 15, 16],\n",
       "        [17, 18, 19, 20]],\n",
       "\n",
       "       [[21, 22, 23, 24],\n",
       "        [25, 26, 27, 28],\n",
       "        [29, 30, 31, 32],\n",
       "        [33, 34, 35, 36],\n",
       "        [37, 38, 39, 40]]])"
      ]
     },
     "execution_count": 42,
     "metadata": {},
     "output_type": "execute_result"
    }
   ],
   "source": [
    "np.arange(1,41).reshape(2,5,4)"
   ]
  },
  {
   "cell_type": "code",
   "execution_count": 44,
   "id": "7f4e0c08",
   "metadata": {},
   "outputs": [
    {
     "data": {
      "text/plain": [
       "array([[9, 2, 4, 4, 4, 8],\n",
       "       [1, 2, 1, 5, 8, 4]])"
      ]
     },
     "execution_count": 44,
     "metadata": {},
     "output_type": "execute_result"
    }
   ],
   "source": [
    "marks=np.random.randint(1,10,(2,6))\n",
    "marks"
   ]
  },
  {
   "cell_type": "code",
   "execution_count": 46,
   "id": "152378a2",
   "metadata": {},
   "outputs": [
    {
     "data": {
      "text/plain": [
       "(array([[9, 2, 4, 4, 4, 8],\n",
       "        [1, 2, 1, 5, 8, 4]]),\n",
       " array([[9, 2, 4],\n",
       "        [1, 2, 1]]))"
      ]
     },
     "execution_count": 46,
     "metadata": {},
     "output_type": "execute_result"
    }
   ],
   "source": [
    "marks[:2], marks[:2,:3]"
   ]
  },
  {
   "cell_type": "code",
   "execution_count": 47,
   "id": "e2852f83",
   "metadata": {},
   "outputs": [
    {
     "data": {
      "text/plain": [
       "array([[4, 4, 8],\n",
       "       [5, 8, 4]])"
      ]
     },
     "execution_count": 47,
     "metadata": {},
     "output_type": "execute_result"
    }
   ],
   "source": [
    "marks[:2,-3:]"
   ]
  },
  {
   "cell_type": "code",
   "execution_count": 48,
   "id": "d43e2d72",
   "metadata": {},
   "outputs": [
    {
     "data": {
      "text/plain": [
       "array([[[89, 96, 80, 78, 78, 82],\n",
       "        [99, 83, 84, 86, 98, 95],\n",
       "        [93, 82, 87, 88, 79, 79]],\n",
       "\n",
       "       [[85, 87, 81, 84, 89, 92],\n",
       "        [96, 78, 92, 81, 99, 90],\n",
       "        [88, 98, 89, 82, 84, 82]]])"
      ]
     },
     "execution_count": 48,
     "metadata": {},
     "output_type": "execute_result"
    }
   ],
   "source": [
    "marks=np.random.randint(78,100,(2,3,6))\n",
    "marks"
   ]
  },
  {
   "cell_type": "code",
   "execution_count": 49,
   "id": "23f31887",
   "metadata": {},
   "outputs": [
    {
     "data": {
      "text/plain": [
       "array([[89, 96, 80],\n",
       "       [99, 83, 84]])"
      ]
     },
     "execution_count": 49,
     "metadata": {},
     "output_type": "execute_result"
    }
   ],
   "source": [
    "marks[0,:2,:3] #marks of 1st test 2 subjects of 1st 3 sudents\n"
   ]
  },
  {
   "cell_type": "code",
   "execution_count": null,
   "id": "a7f9750e",
   "metadata": {},
   "outputs": [],
   "source": []
  }
 ],
 "metadata": {
  "kernelspec": {
   "display_name": "Python 3 (ipykernel)",
   "language": "python",
   "name": "python3"
  },
  "language_info": {
   "codemirror_mode": {
    "name": "ipython",
    "version": 3
   },
   "file_extension": ".py",
   "mimetype": "text/x-python",
   "name": "python",
   "nbconvert_exporter": "python",
   "pygments_lexer": "ipython3",
   "version": "3.9.13"
  }
 },
 "nbformat": 4,
 "nbformat_minor": 5
}
