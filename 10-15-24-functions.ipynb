{
 "cells": [
  {
   "cell_type": "markdown",
   "id": "4929584c",
   "metadata": {},
   "source": [
    "#Function"
   ]
  },
  {
   "cell_type": "code",
   "execution_count": 17,
   "id": "bc377761",
   "metadata": {},
   "outputs": [],
   "source": [
    "#defining a fun\n",
    "def addnum(i,j):\n",
    "    return i+j"
   ]
  },
  {
   "cell_type": "code",
   "execution_count": 3,
   "id": "2780c75f",
   "metadata": {},
   "outputs": [
    {
     "data": {
      "text/plain": [
       "49"
      ]
     },
     "execution_count": 3,
     "metadata": {},
     "output_type": "execute_result"
    }
   ],
   "source": [
    "#calling a fun\n",
    "addnum(27,22)"
   ]
  },
  {
   "cell_type": "code",
   "execution_count": 4,
   "id": "2ce04a47",
   "metadata": {},
   "outputs": [],
   "source": [
    "def addnum(i,j):\n",
    "    return 2*i+1.5*j"
   ]
  },
  {
   "cell_type": "code",
   "execution_count": 6,
   "id": "d4b99d8e",
   "metadata": {},
   "outputs": [
    {
     "data": {
      "text/plain": [
       "46.5"
      ]
     },
     "execution_count": 6,
     "metadata": {},
     "output_type": "execute_result"
    }
   ],
   "source": [
    "addnum(12,15) #positional arg"
   ]
  },
  {
   "cell_type": "code",
   "execution_count": 7,
   "id": "5cf00cb9",
   "metadata": {},
   "outputs": [
    {
     "data": {
      "text/plain": [
       "42.5"
      ]
     },
     "execution_count": 7,
     "metadata": {},
     "output_type": "execute_result"
    }
   ],
   "source": [
    "addnum(i=10, j=15) #keyword arg"
   ]
  },
  {
   "cell_type": "code",
   "execution_count": 8,
   "id": "2ba0f944",
   "metadata": {},
   "outputs": [
    {
     "ename": "SyntaxError",
     "evalue": "positional argument follows keyword argument (3847042570.py, line 1)",
     "output_type": "error",
     "traceback": [
      "\u001b[1;36m  File \u001b[1;32m\"C:\\Users\\pgkvi\\AppData\\Local\\Temp\\ipykernel_38560\\3847042570.py\"\u001b[1;36m, line \u001b[1;32m1\u001b[0m\n\u001b[1;33m    addnum(i=12, 16)\u001b[0m\n\u001b[1;37m                   ^\u001b[0m\n\u001b[1;31mSyntaxError\u001b[0m\u001b[1;31m:\u001b[0m positional argument follows keyword argument\n"
     ]
    }
   ],
   "source": [
    "addnum(i=12, 16) #aft ketword arg, positional arg is not accepted"
   ]
  },
  {
   "cell_type": "code",
   "execution_count": 15,
   "id": "d77ea4cd",
   "metadata": {},
   "outputs": [],
   "source": [
    "#default value\n",
    "def addnum1(i,j,k=0):\n",
    "    return 1.5*i+2*j+k"
   ]
  },
  {
   "cell_type": "code",
   "execution_count": 16,
   "id": "97c05a8b",
   "metadata": {},
   "outputs": [
    {
     "data": {
      "text/plain": [
       "(60.0, 45.0)"
      ]
     },
     "execution_count": 16,
     "metadata": {},
     "output_type": "execute_result"
    }
   ],
   "source": [
    "addnum1(10,20,5), addnum1(10,15)"
   ]
  },
  {
   "cell_type": "code",
   "execution_count": 19,
   "id": "cdd20bed",
   "metadata": {},
   "outputs": [
    {
     "name": "stdout",
     "output_type": "stream",
     "text": [
      "(10, 2, 87, 20, 'hello')\n",
      "<class 'tuple'>\n"
     ]
    }
   ],
   "source": [
    "def addnum2(*z):\n",
    "    print(z)\n",
    "    print(type(z))\n",
    "addnum2(10,2,87,20,'hello')"
   ]
  },
  {
   "cell_type": "code",
   "execution_count": 21,
   "id": "86ba86bb",
   "metadata": {},
   "outputs": [],
   "source": [
    "def sum(*args):\n",
    "    t=0\n",
    "    for i in args:\n",
    "        t+=i\n",
    "    return t"
   ]
  },
  {
   "cell_type": "code",
   "execution_count": 23,
   "id": "71ae2411",
   "metadata": {},
   "outputs": [
    {
     "data": {
      "text/plain": [
       "(0, 10, 60, 100, 0)"
      ]
     },
     "execution_count": 23,
     "metadata": {},
     "output_type": "execute_result"
    }
   ],
   "source": [
    "sum(), sum(10), sum(10,20,30), sum(5,10,20,30,35), sum(5,10,20,30,35, -100)"
   ]
  },
  {
   "cell_type": "code",
   "execution_count": 32,
   "id": "5d413ef2",
   "metadata": {},
   "outputs": [],
   "source": [
    "def concat_str(*args):\n",
    "    t=\" \"\n",
    "    for i in args:\n",
    "        t+=str(i)+ ' '\n",
    "    return t.strip()"
   ]
  },
  {
   "cell_type": "code",
   "execution_count": 33,
   "id": "ba00045a",
   "metadata": {},
   "outputs": [
    {
     "data": {
      "text/plain": [
       "'hello welcome to the python program'"
      ]
     },
     "execution_count": 33,
     "metadata": {},
     "output_type": "execute_result"
    }
   ],
   "source": [
    "concat_str('hello', 'welcome', 'to', 'the', 'python', 'program')"
   ]
  },
  {
   "cell_type": "code",
   "execution_count": 34,
   "id": "bab50928",
   "metadata": {},
   "outputs": [],
   "source": [
    "def kw(**kwargs):\n",
    "    print(kwargs)\n",
    "    print(type(kwargs))"
   ]
  },
  {
   "cell_type": "code",
   "execution_count": 35,
   "id": "7f5be33d",
   "metadata": {},
   "outputs": [
    {
     "name": "stdout",
     "output_type": "stream",
     "text": [
      "{'i': 10, 'j': 7, 'x': 20}\n",
      "<class 'dict'>\n"
     ]
    }
   ],
   "source": [
    "kw(i=10,j=7,x=20)"
   ]
  },
  {
   "cell_type": "code",
   "execution_count": 36,
   "id": "56d4f891",
   "metadata": {},
   "outputs": [],
   "source": [
    "#get method\n",
    "def fun(**kwargs):\n",
    "    return kwargs.get('x',0)+kwargs.get('y',0)\n"
   ]
  },
  {
   "cell_type": "code",
   "execution_count": 38,
   "id": "62db114f",
   "metadata": {},
   "outputs": [
    {
     "data": {
      "text/plain": [
       "(0, 10, 30)"
      ]
     },
     "execution_count": 38,
     "metadata": {},
     "output_type": "execute_result"
    }
   ],
   "source": [
    "fun(a=10,b=5,c=20), fun(a=10,b=7,x=10), fun(a=10,b=7,x=10,y=20)"
   ]
  },
  {
   "cell_type": "code",
   "execution_count": 39,
   "id": "0a57208a",
   "metadata": {},
   "outputs": [],
   "source": [
    "#always 1st positional and then keyword\n",
    "def func(*args, **kwargs):\n",
    "    print(args)\n",
    "    print(kwargs)"
   ]
  },
  {
   "cell_type": "code",
   "execution_count": 42,
   "id": "6bf6dd8c",
   "metadata": {},
   "outputs": [
    {
     "name": "stdout",
     "output_type": "stream",
     "text": [
      "(10, 20, 6)\n",
      "{}\n",
      "()\n",
      "{'i': 9, 'j': 7}\n",
      "(10, 2)\n",
      "{'i': 89, 'a': 29}\n"
     ]
    },
    {
     "data": {
      "text/plain": [
       "(None, None, None)"
      ]
     },
     "execution_count": 42,
     "metadata": {},
     "output_type": "execute_result"
    }
   ],
   "source": [
    "func(10,20,6), func(i=9,j=7), func(10,2,i=89,a=29)"
   ]
  },
  {
   "cell_type": "markdown",
   "id": "76f4721f",
   "metadata": {},
   "source": [
    "# lamda function "
   ]
  },
  {
   "cell_type": "code",
   "execution_count": 43,
   "id": "2fd9749a",
   "metadata": {},
   "outputs": [],
   "source": [
    "#fun with a name, they cant reuse"
   ]
  },
  {
   "cell_type": "code",
   "execution_count": 46,
   "id": "40ce1787",
   "metadata": {},
   "outputs": [],
   "source": [
    "x=[5,12,9,8,16,15]"
   ]
  },
  {
   "cell_type": "code",
   "execution_count": 47,
   "id": "4a3c5ff9",
   "metadata": {},
   "outputs": [],
   "source": [
    "\n",
    "def find_sq(i):\n",
    "    return i**2\n",
    "#function"
   ]
  },
  {
   "cell_type": "code",
   "execution_count": 48,
   "id": "eb0cfd42",
   "metadata": {},
   "outputs": [
    {
     "data": {
      "text/plain": [
       "[25, 144, 81, 64, 256, 225]"
      ]
     },
     "execution_count": 48,
     "metadata": {},
     "output_type": "execute_result"
    }
   ],
   "source": [
    "list(map(find_sq,x))"
   ]
  },
  {
   "cell_type": "code",
   "execution_count": 49,
   "id": "2ecb1c1d",
   "metadata": {},
   "outputs": [
    {
     "data": {
      "text/plain": [
       "[25, 144, 81, 64, 256, 225]"
      ]
     },
     "execution_count": 49,
     "metadata": {},
     "output_type": "execute_result"
    }
   ],
   "source": [
    "list(map(lambda a:a**2,x))"
   ]
  },
  {
   "cell_type": "markdown",
   "id": "a235e3e7",
   "metadata": {},
   "source": [
    "# Iterable"
   ]
  },
  {
   "cell_type": "code",
   "execution_count": 50,
   "id": "171f651d",
   "metadata": {},
   "outputs": [
    {
     "data": {
      "text/plain": [
       "list"
      ]
     },
     "execution_count": 50,
     "metadata": {},
     "output_type": "execute_result"
    }
   ],
   "source": [
    "x=[5,12,9,8,16,15]\n",
    "type(x)"
   ]
  },
  {
   "cell_type": "code",
   "execution_count": 64,
   "id": "5ab01ba7",
   "metadata": {},
   "outputs": [
    {
     "data": {
      "text/plain": [
       "list_iterator"
      ]
     },
     "execution_count": 64,
     "metadata": {},
     "output_type": "execute_result"
    }
   ],
   "source": [
    "x_t=iter(x)\n",
    "type(x_t)"
   ]
  },
  {
   "cell_type": "code",
   "execution_count": 65,
   "id": "836b5c45",
   "metadata": {},
   "outputs": [
    {
     "data": {
      "text/plain": [
       "5"
      ]
     },
     "execution_count": 65,
     "metadata": {},
     "output_type": "execute_result"
    }
   ],
   "source": [
    "next(x_t)\n",
    "#next(x_t,0)"
   ]
  },
  {
   "cell_type": "code",
   "execution_count": 52,
   "id": "70b2ba92",
   "metadata": {},
   "outputs": [
    {
     "data": {
      "text/plain": [
       "int"
      ]
     },
     "execution_count": 52,
     "metadata": {},
     "output_type": "execute_result"
    }
   ],
   "source": [
    "i=1234\n",
    "type(i)"
   ]
  },
  {
   "cell_type": "code",
   "execution_count": 53,
   "id": "613235ff",
   "metadata": {},
   "outputs": [
    {
     "ename": "TypeError",
     "evalue": "'int' object is not iterable",
     "output_type": "error",
     "traceback": [
      "\u001b[1;31m---------------------------------------------------------------------------\u001b[0m",
      "\u001b[1;31mTypeError\u001b[0m                                 Traceback (most recent call last)",
      "\u001b[1;32m~\\AppData\\Local\\Temp\\ipykernel_38560\\106814761.py\u001b[0m in \u001b[0;36m<module>\u001b[1;34m\u001b[0m\n\u001b[1;32m----> 1\u001b[1;33m \u001b[0mi_t\u001b[0m\u001b[1;33m=\u001b[0m\u001b[0miter\u001b[0m\u001b[1;33m(\u001b[0m\u001b[0mi\u001b[0m\u001b[1;33m)\u001b[0m\u001b[1;33m\u001b[0m\u001b[1;33m\u001b[0m\u001b[0m\n\u001b[0m\u001b[0;32m      2\u001b[0m \u001b[0mtype\u001b[0m\u001b[1;33m(\u001b[0m\u001b[0mi_t\u001b[0m\u001b[1;33m)\u001b[0m\u001b[1;33m\u001b[0m\u001b[1;33m\u001b[0m\u001b[0m\n",
      "\u001b[1;31mTypeError\u001b[0m: 'int' object is not iterable"
     ]
    }
   ],
   "source": [
    "i_t=iter(i)\n",
    "type(i_t)"
   ]
  },
  {
   "cell_type": "code",
   "execution_count": 66,
   "id": "25fa4cea",
   "metadata": {},
   "outputs": [
    {
     "data": {
      "text/plain": [
       "range"
      ]
     },
     "execution_count": 66,
     "metadata": {},
     "output_type": "execute_result"
    }
   ],
   "source": [
    "r=range(1,11)\n",
    "type(r)"
   ]
  },
  {
   "cell_type": "code",
   "execution_count": 67,
   "id": "fc6ed58d",
   "metadata": {},
   "outputs": [
    {
     "data": {
      "text/plain": [
       "range_iterator"
      ]
     },
     "execution_count": 67,
     "metadata": {},
     "output_type": "execute_result"
    }
   ],
   "source": [
    "r_t=iter(r)\n",
    "type(r_t)"
   ]
  },
  {
   "cell_type": "code",
   "execution_count": 73,
   "id": "461f3931",
   "metadata": {},
   "outputs": [
    {
     "name": "stdout",
     "output_type": "stream",
     "text": [
      "config is:  i5 32\n",
      "config is:  5000 series 16\n"
     ]
    }
   ],
   "source": [
    "class computer:\n",
    "    def __init__(self, cpu, ram):\n",
    "        self.cpu=cpu\n",
    "        self.ram=ram\n",
    "    def config(self):\n",
    "        print('config is: ', self.cpu, self.ram)\n",
    "com1=computer('i5','32')\n",
    "com2=computer('5000 series', '16')\n",
    "com1.config()\n",
    "com2.config()"
   ]
  },
  {
   "cell_type": "code",
   "execution_count": null,
   "id": "a393a10a",
   "metadata": {},
   "outputs": [],
   "source": []
  }
 ],
 "metadata": {
  "kernelspec": {
   "display_name": "Python 3 (ipykernel)",
   "language": "python",
   "name": "python3"
  },
  "language_info": {
   "codemirror_mode": {
    "name": "ipython",
    "version": 3
   },
   "file_extension": ".py",
   "mimetype": "text/x-python",
   "name": "python",
   "nbconvert_exporter": "python",
   "pygments_lexer": "ipython3",
   "version": "3.9.13"
  }
 },
 "nbformat": 4,
 "nbformat_minor": 5
}
